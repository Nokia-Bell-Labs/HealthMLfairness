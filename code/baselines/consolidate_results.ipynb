{
 "cells": [
  {
   "metadata": {},
   "cell_type": "markdown",
   "source": [
    "© 2024 Nokia\n",
    "Licensed under the BSD 3 Clause Clear License  \n",
    "SPDX-License-Identifier: BSD-3-Clause-Clear"
   ]
  },
  {
   "metadata": {},
   "cell_type": "code",
   "outputs": [],
   "execution_count": 105,
   "source": [
    "import os\n",
    "\n",
    "import pandas as pd\n",
    "\n",
    "prefix = ''"
   ]
  },
  {
   "cell_type": "code",
   "execution_count": 106,
   "outputs": [],
   "source": [
    "# dataset = 'GLOBEM' - final\n",
    "# models = [\n",
    "#     os.path.join('SimCLR', dataset, '20231128-152529_e200_esTrue_bs128_wTrue_f2_fl', 'simclr.frozen.1.41.hdf5'),\n",
    "#     os.path.join('SimCLR', dataset, '20231128-152400_e200_esTrue_bs128_wTrue_f1_m', 'simclr.frozen.1.58.hdf5'),\n",
    "#     os.path.join('SimCLR', dataset, '20231128-152548_e200_esTrue_bs128_wTrue_f0', 'simclr.frozen.1.56.hdf5'),\n",
    "#     os.path.join('SimCLR', dataset, '20231128-152601_e200_esTrue_bs128_wTrue_f1', 'simclr.frozen.1.08.hdf5'),\n",
    "#     os.path.join('SimCLR', dataset, '20231128-152630_e200_esTrue_bs128_wTrue_f2', 'simclr.frozen.1.19.hdf5'),\n",
    "#     os.path.join('SimCLR', dataset, '20231128-152654_e200_esTrue_bs128_wTrue_f3', 'simclr.frozen.1.71.hdf5'),\n",
    "#     os.path.join('Supervised', dataset, '20231115-091914_l2_e200_esTrue_bs64_wTrue', 'supervised.finetuned.hdf5')\n",
    "# ]"
   ],
   "metadata": {
    "collapsed": false,
    "ExecuteTime": {
     "start_time": "2023-12-13T15:37:04.110148Z",
     "end_time": "2023-12-13T15:37:04.136148Z"
    }
   }
  },
  {
   "cell_type": "code",
   "execution_count": 107,
   "outputs": [],
   "source": [
    "dataset = 'MIMIC'\n",
    "# models = [\n",
    "#     # os.path.join('SimCLR', dataset, '20230329-112506_l1_hs128_e100_esFalse_bs128_wTrue_rFalse', 'simclr.finetuned.0.75.hdf5'),\n",
    "#     # os.path.join('SimCLR', dataset, '20230403-115302_200_l2_hs128_e100_esFalse_bs128_wTrue_rFalse', 'simclr.finetuned.0.79.hdf5'),\n",
    "#     os.path.join('SimCLR', dataset, '20230403-120645_e100_esFalse_bs128_wTrue_f2_fl', 'simclr.frozen.0.75.hdf5'),\n",
    "#     os.path.join('SimCLR', dataset, '20230403-120904_e100_esFalse_bs128_wTrue_f1_m', 'simclr.frozen.0.76.hdf5'),\n",
    "#     os.path.join('SimCLR', dataset, '20230403-121322_e100_esFalse_bs128_wTrue_f0', 'simclr.frozen.0.77.hdf5'),\n",
    "#     os.path.join('SimCLR', dataset, '20230403-121747_e100_esFalse_bs128_wTrue_f1', 'simclr.frozen.0.79.hdf5'),\n",
    "#     os.path.join('SimCLR', dataset, '20230403-122120_e100_esFalse_bs128_wTrue_f2', 'simclr.frozen.0.69.hdf5'),\n",
    "#     os.path.join('SimCLR', dataset, '20230403-122444_e100_esFalse_bs128_wTrue_f3', 'simclr.frozen.0.78.hdf5'),\n",
    "#     os.path.join('Supervised', dataset, '20230403-133103_l2_e100_esFalse_bs128_wTrue', 'supervised.finetuned.0.81.hdf5')\n",
    "# ]\n",
    "# data efficiency SimCLR models\n",
    "# models = [\n",
    "#     os.path.join('SimCLR', dataset, '20231211-111258_e100_esFalse_bs128_wTrue_f1_m_ss10', 'simclr.frozen.1.45.hdf5'),\n",
    "#     os.path.join('SimCLR', dataset, '20231211-111328_e100_esFalse_bs128_wTrue_f1_m_ss20', 'simclr.frozen.1.35.hdf5'),\n",
    "#     os.path.join('SimCLR', dataset, '20231211-111357_e100_esFalse_bs128_wTrue_f1_m_ss40', 'simclr.frozen.1.21.hdf5'),\n",
    "#     os.path.join('SimCLR', dataset, '20231211-111428_e100_esFalse_bs128_wTrue_f1_m_ss60', 'simclr.frozen.1.18.hdf5'),\n",
    "#     os.path.join('SimCLR', dataset, '20231211-111500_e100_esFalse_bs128_wTrue_f1_m_ss80', 'simclr.frozen.1.18.hdf5'),\n",
    "#     os.path.join('SimCLR', dataset, '20231211-111533_e100_esFalse_bs128_wTrue_f1_m_ss100', 'simclr.frozen.1.09.hdf5'),\n",
    "#     os.path.join('SimCLR', dataset, '20231213-142041_e100_esFalse_bs128_wTrue_f1_m_ss125', 'simclr.frozen.1.15.hdf5'),\n",
    "#     os.path.join('SimCLR', dataset, '20231213-143219_e100_esFalse_bs128_wTrue_f1_m_ss150', 'simclr.frozen.1.11.hdf5'),\n",
    "# ]\n",
    "# prefix = 'SS_'\n",
    "# data efficiency supervised models\n",
    "models = [\n",
    "    os.path.join('Supervised', dataset, '20231213-112301_l2_e100_esFalse_bs64_wTrue_ss10', 'supervised.finetuned.0.43.hdf5'),\n",
    "    os.path.join('Supervised', dataset, '20231213-112340_l2_e100_esFalse_bs64_wTrue_ss20', 'supervised.finetuned.0.47.hdf5'),\n",
    "    os.path.join('Supervised', dataset, '20231213-112417_l2_e100_esFalse_bs64_wTrue_ss40', 'supervised.finetuned.0.53.hdf5'),\n",
    "    os.path.join('Supervised', dataset, '20231213-112511_l2_e100_esFalse_bs64_wTrue_ss60', 'supervised.finetuned.0.53.hdf5'),\n",
    "    os.path.join('Supervised', dataset, '20231213-112635_l2_e100_esFalse_bs64_wTrue_ss80', 'supervised.finetuned.0.56.hdf5'),\n",
    "    os.path.join('Supervised', dataset, '20231213-112727_l2_e100_esFalse_bs64_wTrue_ss100', 'supervised.finetuned.0.55.hdf5'),\n",
    "    os.path.join('Supervised', dataset, '20231213-141939_l2_e100_esFalse_bs64_wTrue_ss125', 'supervised.finetuned.0.59.hdf5'),\n",
    "    os.path.join('Supervised', dataset, '20231213-143305_l2_e100_esFalse_bs64_wTrue_ss150', 'supervised.finetuned.0.58.hdf5'),\n",
    "]\n",
    "prefix = 'SS_sup_'"
   ],
   "metadata": {
    "collapsed": false,
    "ExecuteTime": {
     "start_time": "2023-12-13T15:37:04.124547Z",
     "end_time": "2023-12-13T15:37:04.143459Z"
    }
   }
  },
  {
   "cell_type": "code",
   "execution_count": 108,
   "outputs": [],
   "source": [
    "# dataset = 'MESA'\n",
    "# trained to optimize val_loss (for uniformity)\n",
    "# models = [\n",
    "#     # os.path.join('SimCLR', dataset, '20230405-111356_200_auc_l2_hs128_e100_esFalse_bs128_wTrue_rFalse', 'simclr.finetuned.0.80.hdf5'),\n",
    "#     os.path.join('SimCLR', dataset, '20231201-084504_e200_esTrue_bs128_wTrue_f2_fl', 'simclr.frozen.16.12.hdf5'),\n",
    "#     os.path.join('SimCLR', dataset, '20231201-085552_e200_esTrue_bs128_wTrue_f1_m', 'simclr.frozen.16.93.hdf5'),\n",
    "#     os.path.join('SimCLR', dataset, '20231201-090723_e200_esTrue_bs128_wTrue_f0', 'simclr.frozen.6.26.hdf5'),\n",
    "#     os.path.join('SimCLR', dataset, '20231201-091643_e200_esTrue_bs128_wTrue_f1', 'simclr.frozen.9.05.hdf5'),\n",
    "#     os.path.join('SimCLR', dataset, '20231201-092528_e200_esTrue_bs128_wTrue_f2', 'simclr.frozen.11.65.hdf5'),\n",
    "#     os.path.join('SimCLR', dataset, '20231201-093337_e200_esTrue_bs128_wTrue_f3', 'simclr.frozen.25.36.hdf5'),\n",
    "#     os.path.join('Supervised', dataset, '20231204-074617_l2_e200_esTrue_bs64_wTrue', 'supervised.finetuned.0.59.hdf5')\n",
    "# ]"
   ],
   "metadata": {
    "collapsed": false,
    "ExecuteTime": {
     "start_time": "2023-12-13T15:37:04.139149Z",
     "end_time": "2023-12-13T15:37:04.154341Z"
    }
   }
  },
  {
   "cell_type": "code",
   "execution_count": 109,
   "outputs": [
    {
     "data": {
      "text/plain": "               metric     value    low_ci   high_ci  parameters  \\\n0            Accuracy  0.855377  0.841780  0.867738      153154   \n1   Balanced Accuracy  0.639312  0.617161  0.665121      153154   \n2               AUROC  0.756109  0.731032  0.783471      153154   \n3         AUPRC Macro  0.318525  0.275932  0.365490      153154   \n4         AUPRC Micro  0.318525  0.275584  0.364503      153154   \n..                ...       ...       ...       ...         ...   \n5            F1 Macro  0.651934  0.628721  0.670754      153154   \n6            F1 Micro  0.798517  0.785229  0.812114      153154   \n7         F1 Weighted  0.825600  0.813885  0.836954      153154   \n8           Precision  0.632115  0.615017  0.649233      153154   \n9              Recall  0.732684  0.707556  0.757887      153154   \n\n                        model_name  \\\n0   supervised.finetuned.0.43.hdf5   \n1   supervised.finetuned.0.43.hdf5   \n2   supervised.finetuned.0.43.hdf5   \n3   supervised.finetuned.0.43.hdf5   \n4   supervised.finetuned.0.43.hdf5   \n..                             ...   \n5   supervised.finetuned.0.58.hdf5   \n6   supervised.finetuned.0.58.hdf5   \n7   supervised.finetuned.0.58.hdf5   \n8   supervised.finetuned.0.58.hdf5   \n9   supervised.finetuned.0.58.hdf5   \n\n                                           subfolder  added_layers  \\\n0    20231213-112301_l2_e100_esFalse_bs64_wTrue_ss10             2   \n1    20231213-112301_l2_e100_esFalse_bs64_wTrue_ss10             2   \n2    20231213-112301_l2_e100_esFalse_bs64_wTrue_ss10             2   \n3    20231213-112301_l2_e100_esFalse_bs64_wTrue_ss10             2   \n4    20231213-112301_l2_e100_esFalse_bs64_wTrue_ss10             2   \n..                                               ...           ...   \n5   20231213-143305_l2_e100_esFalse_bs64_wTrue_ss150             2   \n6   20231213-143305_l2_e100_esFalse_bs64_wTrue_ss150             2   \n7   20231213-143305_l2_e100_esFalse_bs64_wTrue_ss150             2   \n8   20231213-143305_l2_e100_esFalse_bs64_wTrue_ss150             2   \n9   20231213-143305_l2_e100_esFalse_bs64_wTrue_ss150             2   \n\n    frozen_layers            tag  \n0             NaN   supervised10  \n1             NaN   supervised10  \n2             NaN   supervised10  \n3             NaN   supervised10  \n4             NaN   supervised10  \n..            ...            ...  \n5             NaN  supervised150  \n6             NaN  supervised150  \n7             NaN  supervised150  \n8             NaN  supervised150  \n9             NaN  supervised150  \n\n[80 rows x 10 columns]",
      "text/html": "<div>\n<style scoped>\n    .dataframe tbody tr th:only-of-type {\n        vertical-align: middle;\n    }\n\n    .dataframe tbody tr th {\n        vertical-align: top;\n    }\n\n    .dataframe thead th {\n        text-align: right;\n    }\n</style>\n<table border=\"1\" class=\"dataframe\">\n  <thead>\n    <tr style=\"text-align: right;\">\n      <th></th>\n      <th>metric</th>\n      <th>value</th>\n      <th>low_ci</th>\n      <th>high_ci</th>\n      <th>parameters</th>\n      <th>model_name</th>\n      <th>subfolder</th>\n      <th>added_layers</th>\n      <th>frozen_layers</th>\n      <th>tag</th>\n    </tr>\n  </thead>\n  <tbody>\n    <tr>\n      <th>0</th>\n      <td>Accuracy</td>\n      <td>0.855377</td>\n      <td>0.841780</td>\n      <td>0.867738</td>\n      <td>153154</td>\n      <td>supervised.finetuned.0.43.hdf5</td>\n      <td>20231213-112301_l2_e100_esFalse_bs64_wTrue_ss10</td>\n      <td>2</td>\n      <td>NaN</td>\n      <td>supervised10</td>\n    </tr>\n    <tr>\n      <th>1</th>\n      <td>Balanced Accuracy</td>\n      <td>0.639312</td>\n      <td>0.617161</td>\n      <td>0.665121</td>\n      <td>153154</td>\n      <td>supervised.finetuned.0.43.hdf5</td>\n      <td>20231213-112301_l2_e100_esFalse_bs64_wTrue_ss10</td>\n      <td>2</td>\n      <td>NaN</td>\n      <td>supervised10</td>\n    </tr>\n    <tr>\n      <th>2</th>\n      <td>AUROC</td>\n      <td>0.756109</td>\n      <td>0.731032</td>\n      <td>0.783471</td>\n      <td>153154</td>\n      <td>supervised.finetuned.0.43.hdf5</td>\n      <td>20231213-112301_l2_e100_esFalse_bs64_wTrue_ss10</td>\n      <td>2</td>\n      <td>NaN</td>\n      <td>supervised10</td>\n    </tr>\n    <tr>\n      <th>3</th>\n      <td>AUPRC Macro</td>\n      <td>0.318525</td>\n      <td>0.275932</td>\n      <td>0.365490</td>\n      <td>153154</td>\n      <td>supervised.finetuned.0.43.hdf5</td>\n      <td>20231213-112301_l2_e100_esFalse_bs64_wTrue_ss10</td>\n      <td>2</td>\n      <td>NaN</td>\n      <td>supervised10</td>\n    </tr>\n    <tr>\n      <th>4</th>\n      <td>AUPRC Micro</td>\n      <td>0.318525</td>\n      <td>0.275584</td>\n      <td>0.364503</td>\n      <td>153154</td>\n      <td>supervised.finetuned.0.43.hdf5</td>\n      <td>20231213-112301_l2_e100_esFalse_bs64_wTrue_ss10</td>\n      <td>2</td>\n      <td>NaN</td>\n      <td>supervised10</td>\n    </tr>\n    <tr>\n      <th>...</th>\n      <td>...</td>\n      <td>...</td>\n      <td>...</td>\n      <td>...</td>\n      <td>...</td>\n      <td>...</td>\n      <td>...</td>\n      <td>...</td>\n      <td>...</td>\n      <td>...</td>\n    </tr>\n    <tr>\n      <th>5</th>\n      <td>F1 Macro</td>\n      <td>0.651934</td>\n      <td>0.628721</td>\n      <td>0.670754</td>\n      <td>153154</td>\n      <td>supervised.finetuned.0.58.hdf5</td>\n      <td>20231213-143305_l2_e100_esFalse_bs64_wTrue_ss150</td>\n      <td>2</td>\n      <td>NaN</td>\n      <td>supervised150</td>\n    </tr>\n    <tr>\n      <th>6</th>\n      <td>F1 Micro</td>\n      <td>0.798517</td>\n      <td>0.785229</td>\n      <td>0.812114</td>\n      <td>153154</td>\n      <td>supervised.finetuned.0.58.hdf5</td>\n      <td>20231213-143305_l2_e100_esFalse_bs64_wTrue_ss150</td>\n      <td>2</td>\n      <td>NaN</td>\n      <td>supervised150</td>\n    </tr>\n    <tr>\n      <th>7</th>\n      <td>F1 Weighted</td>\n      <td>0.825600</td>\n      <td>0.813885</td>\n      <td>0.836954</td>\n      <td>153154</td>\n      <td>supervised.finetuned.0.58.hdf5</td>\n      <td>20231213-143305_l2_e100_esFalse_bs64_wTrue_ss150</td>\n      <td>2</td>\n      <td>NaN</td>\n      <td>supervised150</td>\n    </tr>\n    <tr>\n      <th>8</th>\n      <td>Precision</td>\n      <td>0.632115</td>\n      <td>0.615017</td>\n      <td>0.649233</td>\n      <td>153154</td>\n      <td>supervised.finetuned.0.58.hdf5</td>\n      <td>20231213-143305_l2_e100_esFalse_bs64_wTrue_ss150</td>\n      <td>2</td>\n      <td>NaN</td>\n      <td>supervised150</td>\n    </tr>\n    <tr>\n      <th>9</th>\n      <td>Recall</td>\n      <td>0.732684</td>\n      <td>0.707556</td>\n      <td>0.757887</td>\n      <td>153154</td>\n      <td>supervised.finetuned.0.58.hdf5</td>\n      <td>20231213-143305_l2_e100_esFalse_bs64_wTrue_ss150</td>\n      <td>2</td>\n      <td>NaN</td>\n      <td>supervised150</td>\n    </tr>\n  </tbody>\n</table>\n<p>80 rows × 10 columns</p>\n</div>"
     },
     "execution_count": 109,
     "metadata": {},
     "output_type": "execute_result"
    }
   ],
   "source": [
    "ci_metrics = pd.DataFrame()\n",
    "conditioned_metrics = pd.DataFrame()\n",
    "fairness_metrics = pd.DataFrame()\n",
    "for model_path in models:\n",
    "    ci_tmp = pd.read_csv(model_path.replace('.hdf5', '_ci_metrics.csv'))\n",
    "    ci_metrics = pd.concat([ci_metrics, ci_tmp], axis=0)\n",
    "    conditioned_tmp = pd.read_csv(model_path.replace('.hdf5', '_conditioned_metrics.csv'))\n",
    "    conditioned_metrics = pd.concat([conditioned_metrics, conditioned_tmp], axis=0)\n",
    "    fairness_tmp = pd.read_csv(model_path.replace('.hdf5', '_fairness_metrics.csv'))\n",
    "    fairness_metrics = pd.concat([fairness_metrics, fairness_tmp], axis=0)\n",
    "ci_metrics.head(100)"
   ],
   "metadata": {
    "collapsed": false,
    "ExecuteTime": {
     "start_time": "2023-12-13T15:37:04.158340Z",
     "end_time": "2023-12-13T15:37:04.247240Z"
    }
   }
  },
  {
   "cell_type": "code",
   "execution_count": 110,
   "outputs": [
    {
     "data": {
      "text/plain": "  protected_attribute                            metric     value  parameters  \\\n0            LANGUAGE     statistical_parity_difference  0.078567      153154   \n1            LANGUAGE                  disparate_impact  2.021945      153154   \n2            LANGUAGE      equal_opportunity_difference  0.156840      153154   \n3            LANGUAGE  average_absolute_odds_difference  0.101452      153154   \n4            LANGUAGE             error_rate_difference  0.064553      153154   \n\n                       model_name  \\\n0  supervised.finetuned.0.43.hdf5   \n1  supervised.finetuned.0.43.hdf5   \n2  supervised.finetuned.0.43.hdf5   \n3  supervised.finetuned.0.43.hdf5   \n4  supervised.finetuned.0.43.hdf5   \n\n                                         subfolder  added_layers  \\\n0  20231213-112301_l2_e100_esFalse_bs64_wTrue_ss10             2   \n1  20231213-112301_l2_e100_esFalse_bs64_wTrue_ss10             2   \n2  20231213-112301_l2_e100_esFalse_bs64_wTrue_ss10             2   \n3  20231213-112301_l2_e100_esFalse_bs64_wTrue_ss10             2   \n4  20231213-112301_l2_e100_esFalse_bs64_wTrue_ss10             2   \n\n   frozen_layers           tag  \n0            NaN  supervised10  \n1            NaN  supervised10  \n2            NaN  supervised10  \n3            NaN  supervised10  \n4            NaN  supervised10  ",
      "text/html": "<div>\n<style scoped>\n    .dataframe tbody tr th:only-of-type {\n        vertical-align: middle;\n    }\n\n    .dataframe tbody tr th {\n        vertical-align: top;\n    }\n\n    .dataframe thead th {\n        text-align: right;\n    }\n</style>\n<table border=\"1\" class=\"dataframe\">\n  <thead>\n    <tr style=\"text-align: right;\">\n      <th></th>\n      <th>protected_attribute</th>\n      <th>metric</th>\n      <th>value</th>\n      <th>parameters</th>\n      <th>model_name</th>\n      <th>subfolder</th>\n      <th>added_layers</th>\n      <th>frozen_layers</th>\n      <th>tag</th>\n    </tr>\n  </thead>\n  <tbody>\n    <tr>\n      <th>0</th>\n      <td>LANGUAGE</td>\n      <td>statistical_parity_difference</td>\n      <td>0.078567</td>\n      <td>153154</td>\n      <td>supervised.finetuned.0.43.hdf5</td>\n      <td>20231213-112301_l2_e100_esFalse_bs64_wTrue_ss10</td>\n      <td>2</td>\n      <td>NaN</td>\n      <td>supervised10</td>\n    </tr>\n    <tr>\n      <th>1</th>\n      <td>LANGUAGE</td>\n      <td>disparate_impact</td>\n      <td>2.021945</td>\n      <td>153154</td>\n      <td>supervised.finetuned.0.43.hdf5</td>\n      <td>20231213-112301_l2_e100_esFalse_bs64_wTrue_ss10</td>\n      <td>2</td>\n      <td>NaN</td>\n      <td>supervised10</td>\n    </tr>\n    <tr>\n      <th>2</th>\n      <td>LANGUAGE</td>\n      <td>equal_opportunity_difference</td>\n      <td>0.156840</td>\n      <td>153154</td>\n      <td>supervised.finetuned.0.43.hdf5</td>\n      <td>20231213-112301_l2_e100_esFalse_bs64_wTrue_ss10</td>\n      <td>2</td>\n      <td>NaN</td>\n      <td>supervised10</td>\n    </tr>\n    <tr>\n      <th>3</th>\n      <td>LANGUAGE</td>\n      <td>average_absolute_odds_difference</td>\n      <td>0.101452</td>\n      <td>153154</td>\n      <td>supervised.finetuned.0.43.hdf5</td>\n      <td>20231213-112301_l2_e100_esFalse_bs64_wTrue_ss10</td>\n      <td>2</td>\n      <td>NaN</td>\n      <td>supervised10</td>\n    </tr>\n    <tr>\n      <th>4</th>\n      <td>LANGUAGE</td>\n      <td>error_rate_difference</td>\n      <td>0.064553</td>\n      <td>153154</td>\n      <td>supervised.finetuned.0.43.hdf5</td>\n      <td>20231213-112301_l2_e100_esFalse_bs64_wTrue_ss10</td>\n      <td>2</td>\n      <td>NaN</td>\n      <td>supervised10</td>\n    </tr>\n  </tbody>\n</table>\n</div>"
     },
     "execution_count": 110,
     "metadata": {},
     "output_type": "execute_result"
    }
   ],
   "source": [
    "fairness_metrics.rename({'fairness_metric': 'metric'}, axis=1, inplace=True)\n",
    "fairness_metrics.head()"
   ],
   "metadata": {
    "collapsed": false,
    "ExecuteTime": {
     "start_time": "2023-12-13T15:37:04.248240Z",
     "end_time": "2023-12-13T15:37:04.279227Z"
    }
   }
  },
  {
   "cell_type": "code",
   "execution_count": 111,
   "outputs": [],
   "source": [
    "results_folder = os.path.join('results', dataset)\n",
    "if not os.path.exists(results_folder):\n",
    "    os.makedirs(results_folder)\n",
    "\n",
    "ci_metrics.to_csv(os.path.join(results_folder, '{}ci_metrics.csv'.format(prefix)), index=False)\n",
    "conditioned_metrics.to_csv(os.path.join(results_folder, '{}conditioned_metrics.csv'.format(prefix)), index=False)\n",
    "fairness_metrics.to_csv(os.path.join(results_folder, '{}fairness_metrics.csv'.format(prefix)), index=False)"
   ],
   "metadata": {
    "collapsed": false,
    "ExecuteTime": {
     "start_time": "2023-12-13T15:37:04.266228Z",
     "end_time": "2023-12-13T15:37:04.322818Z"
    }
   }
  },
  {
   "cell_type": "code",
   "execution_count": 112,
   "outputs": [
    {
     "data": {
      "text/plain": "                                                   0\n0  Supervised\\MIMIC\\20231213-112301_l2_e100_esFal...\n1  Supervised\\MIMIC\\20231213-112340_l2_e100_esFal...\n2  Supervised\\MIMIC\\20231213-112417_l2_e100_esFal...\n3  Supervised\\MIMIC\\20231213-112511_l2_e100_esFal...\n4  Supervised\\MIMIC\\20231213-112635_l2_e100_esFal...",
      "text/html": "<div>\n<style scoped>\n    .dataframe tbody tr th:only-of-type {\n        vertical-align: middle;\n    }\n\n    .dataframe tbody tr th {\n        vertical-align: top;\n    }\n\n    .dataframe thead th {\n        text-align: right;\n    }\n</style>\n<table border=\"1\" class=\"dataframe\">\n  <thead>\n    <tr style=\"text-align: right;\">\n      <th></th>\n      <th>0</th>\n    </tr>\n  </thead>\n  <tbody>\n    <tr>\n      <th>0</th>\n      <td>Supervised\\MIMIC\\20231213-112301_l2_e100_esFal...</td>\n    </tr>\n    <tr>\n      <th>1</th>\n      <td>Supervised\\MIMIC\\20231213-112340_l2_e100_esFal...</td>\n    </tr>\n    <tr>\n      <th>2</th>\n      <td>Supervised\\MIMIC\\20231213-112417_l2_e100_esFal...</td>\n    </tr>\n    <tr>\n      <th>3</th>\n      <td>Supervised\\MIMIC\\20231213-112511_l2_e100_esFal...</td>\n    </tr>\n    <tr>\n      <th>4</th>\n      <td>Supervised\\MIMIC\\20231213-112635_l2_e100_esFal...</td>\n    </tr>\n  </tbody>\n</table>\n</div>"
     },
     "execution_count": 112,
     "metadata": {},
     "output_type": "execute_result"
    }
   ],
   "source": [
    "models_df = pd.DataFrame(models)\n",
    "models_df.to_csv(os.path.join(results_folder, '{}models.csv'.format(prefix)), index=False)\n",
    "models_df.head()"
   ],
   "metadata": {
    "collapsed": false,
    "ExecuteTime": {
     "start_time": "2023-12-13T15:37:04.280228Z",
     "end_time": "2023-12-13T15:37:04.352747Z"
    }
   }
  },
  {
   "cell_type": "code",
   "execution_count": 113,
   "outputs": [],
   "source": [
    "ci_metrics.to_excel(os.path.join(results_folder, '{}ci_metrics.xlsx'.format(prefix)), index=False, sheet_name=\"Performance\")\n",
    "conditioned_metrics.to_excel(os.path.join(results_folder, '{}conditioned_metrics.xlsx'.format(prefix)), index=False)\n",
    "fairness_metrics.to_excel(os.path.join(results_folder, '{}fairness_metrics.xlsx'.format(prefix)), index=False, sheet_name=\"Fairness\")"
   ],
   "metadata": {
    "collapsed": false,
    "ExecuteTime": {
     "start_time": "2023-12-13T15:37:04.295235Z",
     "end_time": "2023-12-13T15:37:04.469278Z"
    }
   }
  },
  {
   "cell_type": "code",
   "execution_count": 113,
   "outputs": [],
   "source": [],
   "metadata": {
    "collapsed": false,
    "ExecuteTime": {
     "start_time": "2023-12-13T15:37:04.468279Z",
     "end_time": "2023-12-13T15:37:04.493883Z"
    }
   }
  }
 ],
 "metadata": {
  "kernelspec": {
   "display_name": "Python 3",
   "language": "python",
   "name": "python3"
  },
  "language_info": {
   "codemirror_mode": {
    "name": "ipython",
    "version": 2
   },
   "file_extension": ".py",
   "mimetype": "text/x-python",
   "name": "python",
   "nbconvert_exporter": "python",
   "pygments_lexer": "ipython2",
   "version": "2.7.6"
  }
 },
 "nbformat": 4,
 "nbformat_minor": 0
}
