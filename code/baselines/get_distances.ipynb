{
 "cells": [
  {
   "metadata": {},
   "cell_type": "markdown",
   "source": [
    "© 2024 Nokia\n",
    "Licensed under the BSD 3 Clause Clear License  \n",
    "SPDX-License-Identifier: BSD-3-Clause-Clear"
   ],
   "id": "eee8d804b583576"
  },
  {
   "metadata": {},
   "cell_type": "code",
   "outputs": [],
   "execution_count": 63,
   "source": [
    "import math\n",
    "import os\n",
    "import re\n",
    "\n",
    "import numpy as np\n",
    "import pandas as pd\n",
    "import seaborn as sns\n",
    "import tensorflow as tf\n",
    "from sklearn_extra.cluster import KMedoids\n",
    "import sklearn\n",
    "import sklearn.manifold\n",
    "import matplotlib.pyplot as plt\n",
    "from sklearn.metrics import pairwise_distances_argmin_min\n",
    "from scipy.spatial.distance import cdist, cityblock\n",
    "from statsmodels.compat import scipy\n",
    "\n",
    "num_classes = 2\n",
    "intermediate_layer = 7  # last CNN layer\n",
    "sns.set(style='white', context=\"poster\", font='Work Sans Regural', palette=sns.color_palette([\"#1F968BFF\", \"#FDE725FF\", \"#d1d3d4\"], num_classes))"
   ],
   "id": "initial_id"
  },
  {
   "cell_type": "code",
   "execution_count": 64,
   "outputs": [],
   "source": [
    "dataset = 'MIMIC'\n",
    "\n",
    "models = [\n",
    "    os.path.join('SimCLR', dataset, '20230403-120645_e100_esFalse_bs128_wTrue_f2_fl', 'simclr.frozen.0.75.hdf5'),\n",
    "    os.path.join('SimCLR', dataset, '20230403-120904_e100_esFalse_bs128_wTrue_f1_m', 'simclr.frozen.0.76.hdf5'),\n",
    "    os.path.join('SimCLR', dataset, '20230403-121322_e100_esFalse_bs128_wTrue_f0', 'simclr.frozen.0.77.hdf5'),\n",
    "    os.path.join('SimCLR', dataset, '20230403-121747_e100_esFalse_bs128_wTrue_f1', 'simclr.frozen.0.79.hdf5'),\n",
    "    os.path.join('SimCLR', dataset, '20230403-122120_e100_esFalse_bs128_wTrue_f2', 'simclr.frozen.0.69.hdf5'),\n",
    "    os.path.join('SimCLR', dataset, '20230403-122444_e100_esFalse_bs128_wTrue_f3', 'simclr.frozen.0.78.hdf5'),\n",
    "    os.path.join('Supervised', dataset, '20230403-133103_l2_e100_esFalse_bs128_wTrue', 'supervised.finetuned.0.81.hdf5')\n",
    "]\n",
    "\n",
    "columns = ['INSURANCE', 'ETHNICITY', 'GENDER', 'AGE', 'LANGUAGE']\n",
    "best_groups = ['Self Pay', 'HISPANIC', 'M', '1', 'ENGL']\n",
    "worst_groups = ['Medicaid', 'BLACK', 'F', '0', 'OTHER']\n",
    "# less than 65: 1"
   ],
   "metadata": {
    "collapsed": false,
    "ExecuteTime": {
     "end_time": "2024-01-12T11:04:42.876538400Z",
     "start_time": "2024-01-12T11:04:42.870537Z"
    }
   },
   "id": "4b10cdd3dcdcf7ce"
  },
  {
   "cell_type": "code",
   "execution_count": 65,
   "outputs": [],
   "source": [
    "dataset = 'MESA'\n",
    "\n",
    "models = [\n",
    "    os.path.join('SimCLR', dataset, '20231201-084504_e200_esTrue_bs128_wTrue_f2_fl', 'simclr.frozen.16.12.hdf5'),\n",
    "    os.path.join('SimCLR', dataset, '20231201-085552_e200_esTrue_bs128_wTrue_f1_m', 'simclr.frozen.16.93.hdf5'),\n",
    "    os.path.join('SimCLR', dataset, '20231201-090723_e200_esTrue_bs128_wTrue_f0', 'simclr.frozen.6.26.hdf5'),\n",
    "    os.path.join('SimCLR', dataset, '20231201-091643_e200_esTrue_bs128_wTrue_f1', 'simclr.frozen.9.05.hdf5'),\n",
    "    os.path.join('SimCLR', dataset, '20231201-092528_e200_esTrue_bs128_wTrue_f2', 'simclr.frozen.11.65.hdf5'),\n",
    "    os.path.join('SimCLR', dataset, '20231201-093337_e200_esTrue_bs128_wTrue_f3', 'simclr.frozen.25.36.hdf5'),\n",
    "    os.path.join('Supervised', dataset, '20231204-074617_l2_e200_esTrue_bs64_wTrue', 'supervised.finetuned.0.59.hdf5'),\n",
    "]\n",
    "\n",
    "columns = ['nsrr_sex', 'nsrr_age_gt65', 'nsrr_race']\n",
    "best_groups = ['male', 'no', 'white']\n",
    "worst_groups = ['female', 'yes', 'asian']"
   ],
   "metadata": {
    "collapsed": false,
    "ExecuteTime": {
     "end_time": "2024-01-12T11:04:42.917055400Z",
     "start_time": "2024-01-12T11:04:42.878537500Z"
    }
   },
   "id": "3b2ae3d74f9cee42"
  },
  {
   "cell_type": "code",
   "execution_count": 66,
   "outputs": [],
   "source": [
    "dataset = 'GLOBEM'\n",
    "\n",
    "models = [\n",
    "    os.path.join('SimCLR', dataset, '20231128-152529_e200_esTrue_bs128_wTrue_f2_fl', 'simclr.frozen.1.41.hdf5'),\n",
    "    os.path.join('SimCLR', dataset, '20231128-152400_e200_esTrue_bs128_wTrue_f1_m', 'simclr.frozen.1.58.hdf5'),\n",
    "    os.path.join('SimCLR', dataset, '20231128-152548_e200_esTrue_bs128_wTrue_f0', 'simclr.frozen.1.56.hdf5'),\n",
    "    os.path.join('SimCLR', dataset, '20231128-152601_e200_esTrue_bs128_wTrue_f1', 'simclr.frozen.1.08.hdf5'),\n",
    "    os.path.join('SimCLR', dataset, '20231128-152630_e200_esTrue_bs128_wTrue_f2', 'simclr.frozen.1.19.hdf5'),\n",
    "    os.path.join('SimCLR', dataset, '20231128-152654_e200_esTrue_bs128_wTrue_f3', 'simclr.frozen.1.71.hdf5'),\n",
    "    os.path.join('Supervised', dataset, '20231115-091914_l2_e200_esTrue_bs64_wTrue', 'supervised.finetuned.hdf5')\n",
    "]\n",
    "\n",
    "columns = ['gender', 'race', 'disability']\n",
    "best_groups = ['Male', 'White', 'No']\n",
    "worst_groups = ['Female', 'Biracial', 'Yes']"
   ],
   "metadata": {
    "collapsed": false,
    "ExecuteTime": {
     "end_time": "2024-01-12T11:04:42.918056100Z",
     "start_time": "2024-01-12T11:04:42.890534100Z"
    }
   },
   "id": "1313596005853631"
  },
  {
   "cell_type": "code",
   "execution_count": 67,
   "outputs": [
    {
     "data": {
      "text/plain": "      PID  gender   age   race  generation  disability  year\n0  1221.0     1.0  21.0  Asian         1.0         1.0     4\n1  1221.0     1.0  21.0  Asian         1.0         1.0     4\n2  1221.0     1.0  21.0  Asian         1.0         1.0     4\n3  1221.0     1.0  21.0  Asian         1.0         1.0     4\n4  1221.0     1.0  21.0  Asian         1.0         1.0     4",
      "text/html": "<div>\n<style scoped>\n    .dataframe tbody tr th:only-of-type {\n        vertical-align: middle;\n    }\n\n    .dataframe tbody tr th {\n        vertical-align: top;\n    }\n\n    .dataframe thead th {\n        text-align: right;\n    }\n</style>\n<table border=\"1\" class=\"dataframe\">\n  <thead>\n    <tr style=\"text-align: right;\">\n      <th></th>\n      <th>PID</th>\n      <th>gender</th>\n      <th>age</th>\n      <th>race</th>\n      <th>generation</th>\n      <th>disability</th>\n      <th>year</th>\n    </tr>\n  </thead>\n  <tbody>\n    <tr>\n      <th>0</th>\n      <td>1221.0</td>\n      <td>1.0</td>\n      <td>21.0</td>\n      <td>Asian</td>\n      <td>1.0</td>\n      <td>1.0</td>\n      <td>4</td>\n    </tr>\n    <tr>\n      <th>1</th>\n      <td>1221.0</td>\n      <td>1.0</td>\n      <td>21.0</td>\n      <td>Asian</td>\n      <td>1.0</td>\n      <td>1.0</td>\n      <td>4</td>\n    </tr>\n    <tr>\n      <th>2</th>\n      <td>1221.0</td>\n      <td>1.0</td>\n      <td>21.0</td>\n      <td>Asian</td>\n      <td>1.0</td>\n      <td>1.0</td>\n      <td>4</td>\n    </tr>\n    <tr>\n      <th>3</th>\n      <td>1221.0</td>\n      <td>1.0</td>\n      <td>21.0</td>\n      <td>Asian</td>\n      <td>1.0</td>\n      <td>1.0</td>\n      <td>4</td>\n    </tr>\n    <tr>\n      <th>4</th>\n      <td>1221.0</td>\n      <td>1.0</td>\n      <td>21.0</td>\n      <td>Asian</td>\n      <td>1.0</td>\n      <td>1.0</td>\n      <td>4</td>\n    </tr>\n  </tbody>\n</table>\n</div>"
     },
     "execution_count": 67,
     "metadata": {},
     "output_type": "execute_result"
    }
   ],
   "source": [
    "# read demographics\n",
    "test = (np.load(os.path.join('SimCLR', dataset, 'test_x.npy')),\n",
    "           np.load(os.path.join('SimCLR', dataset, 'test_y.npy')))\n",
    "test_listfile = pd.read_csv(os.path.join('..', '..', 'datasets', dataset, 'test_listfile.csv'))\n",
    "test_listfile.head()"
   ],
   "metadata": {
    "collapsed": false,
    "ExecuteTime": {
     "end_time": "2024-01-12T11:04:43.098735500Z",
     "start_time": "2024-01-12T11:04:42.907046300Z"
    }
   },
   "id": "7b8dded8d2b8f8a5"
  },
  {
   "cell_type": "code",
   "execution_count": 68,
   "outputs": [
    {
     "data": {
      "text/plain": "      PID  gender   age   race  generation  disability  year\n0  1221.0     1.0  21.0  Asian         1.0         1.0     4\n1  1221.0     1.0  21.0  Asian         1.0         1.0     4\n2  1221.0     1.0  21.0  Asian         1.0         1.0     4\n3  1221.0     1.0  21.0  Asian         1.0         1.0     4\n4  1221.0     1.0  21.0  Asian         1.0         1.0     4",
      "text/html": "<div>\n<style scoped>\n    .dataframe tbody tr th:only-of-type {\n        vertical-align: middle;\n    }\n\n    .dataframe tbody tr th {\n        vertical-align: top;\n    }\n\n    .dataframe thead th {\n        text-align: right;\n    }\n</style>\n<table border=\"1\" class=\"dataframe\">\n  <thead>\n    <tr style=\"text-align: right;\">\n      <th></th>\n      <th>PID</th>\n      <th>gender</th>\n      <th>age</th>\n      <th>race</th>\n      <th>generation</th>\n      <th>disability</th>\n      <th>year</th>\n    </tr>\n  </thead>\n  <tbody>\n    <tr>\n      <th>0</th>\n      <td>1221.0</td>\n      <td>1.0</td>\n      <td>21.0</td>\n      <td>Asian</td>\n      <td>1.0</td>\n      <td>1.0</td>\n      <td>4</td>\n    </tr>\n    <tr>\n      <th>1</th>\n      <td>1221.0</td>\n      <td>1.0</td>\n      <td>21.0</td>\n      <td>Asian</td>\n      <td>1.0</td>\n      <td>1.0</td>\n      <td>4</td>\n    </tr>\n    <tr>\n      <th>2</th>\n      <td>1221.0</td>\n      <td>1.0</td>\n      <td>21.0</td>\n      <td>Asian</td>\n      <td>1.0</td>\n      <td>1.0</td>\n      <td>4</td>\n    </tr>\n    <tr>\n      <th>3</th>\n      <td>1221.0</td>\n      <td>1.0</td>\n      <td>21.0</td>\n      <td>Asian</td>\n      <td>1.0</td>\n      <td>1.0</td>\n      <td>4</td>\n    </tr>\n    <tr>\n      <th>4</th>\n      <td>1221.0</td>\n      <td>1.0</td>\n      <td>21.0</td>\n      <td>Asian</td>\n      <td>1.0</td>\n      <td>1.0</td>\n      <td>4</td>\n    </tr>\n  </tbody>\n</table>\n</div>"
     },
     "execution_count": 68,
     "metadata": {},
     "output_type": "execute_result"
    }
   ],
   "source": [
    "if dataset == 'MIMIC':\n",
    "    subjects = pd.read_csv(os.path.join('..', '..',  'datasets', dataset, 'demographics_rich.csv'))\n",
    "    # extract subject_id from stay\n",
    "    regex = r\"(?:^\\d+)\"\n",
    "    test_listfile.loc[:, \"SUBJECT_ID\"] = test_listfile.stay.apply(lambda stay: re.search(regex, stay).group(0))\n",
    "    test_listfile.SUBJECT_ID = test_listfile.SUBJECT_ID.astype(int)\n",
    "    test_listfile.drop(['stay'], axis=1, inplace=True)\n",
    "    test_listfile = test_listfile.merge(subjects, how='left', on='SUBJECT_ID')\n",
    "elif dataset == 'MESA':\n",
    "        subjects = pd.read_csv(os.path.join('..', '..',  'datasets', dataset, 'demographics.csv'), delimiter=';')\n",
    "        test_listfile = test_listfile.merge(subjects, how='left', on='mesaid')\n",
    "\n",
    "test_listfile.head()"
   ],
   "metadata": {
    "collapsed": false,
    "ExecuteTime": {
     "end_time": "2024-01-12T11:04:43.144252200Z",
     "start_time": "2024-01-12T11:04:43.108250500Z"
    }
   },
   "id": "52309b3f672d3385"
  },
  {
   "cell_type": "code",
   "execution_count": 69,
   "outputs": [
    {
     "data": {
      "text/plain": "      PID gender   age   race  generation disability  year\n0  1221.0   Male  21.0  Asian         1.0        Yes     4\n1  1221.0   Male  21.0  Asian         1.0        Yes     4\n2  1221.0   Male  21.0  Asian         1.0        Yes     4\n3  1221.0   Male  21.0  Asian         1.0        Yes     4\n4  1221.0   Male  21.0  Asian         1.0        Yes     4",
      "text/html": "<div>\n<style scoped>\n    .dataframe tbody tr th:only-of-type {\n        vertical-align: middle;\n    }\n\n    .dataframe tbody tr th {\n        vertical-align: top;\n    }\n\n    .dataframe thead th {\n        text-align: right;\n    }\n</style>\n<table border=\"1\" class=\"dataframe\">\n  <thead>\n    <tr style=\"text-align: right;\">\n      <th></th>\n      <th>PID</th>\n      <th>gender</th>\n      <th>age</th>\n      <th>race</th>\n      <th>generation</th>\n      <th>disability</th>\n      <th>year</th>\n    </tr>\n  </thead>\n  <tbody>\n    <tr>\n      <th>0</th>\n      <td>1221.0</td>\n      <td>Male</td>\n      <td>21.0</td>\n      <td>Asian</td>\n      <td>1.0</td>\n      <td>Yes</td>\n      <td>4</td>\n    </tr>\n    <tr>\n      <th>1</th>\n      <td>1221.0</td>\n      <td>Male</td>\n      <td>21.0</td>\n      <td>Asian</td>\n      <td>1.0</td>\n      <td>Yes</td>\n      <td>4</td>\n    </tr>\n    <tr>\n      <th>2</th>\n      <td>1221.0</td>\n      <td>Male</td>\n      <td>21.0</td>\n      <td>Asian</td>\n      <td>1.0</td>\n      <td>Yes</td>\n      <td>4</td>\n    </tr>\n    <tr>\n      <th>3</th>\n      <td>1221.0</td>\n      <td>Male</td>\n      <td>21.0</td>\n      <td>Asian</td>\n      <td>1.0</td>\n      <td>Yes</td>\n      <td>4</td>\n    </tr>\n    <tr>\n      <th>4</th>\n      <td>1221.0</td>\n      <td>Male</td>\n      <td>21.0</td>\n      <td>Asian</td>\n      <td>1.0</td>\n      <td>Yes</td>\n      <td>4</td>\n    </tr>\n  </tbody>\n</table>\n</div>"
     },
     "execution_count": 69,
     "metadata": {},
     "output_type": "execute_result"
    }
   ],
   "source": [
    "def transform_mimic(test_listfile):\n",
    "    test_listfile.LANGUAGE = test_listfile.LANGUAGE.apply(lambda lang: lang if lang=='ENGL' else 'OTHER')\n",
    "    test_listfile.ETHNICITY = test_listfile.ETHNICITY.apply(lambda v: \"WHITE\" if \"WHITE\" in v else (\"BLACK\" if \"BLACK\" in v else (\"HISPANIC\" if \"HISPANIC\" in v else (\"ASIAN\" if \"ASIAN\" in v else \"OTHER\"))))\n",
    "    test_listfile.AGE = test_listfile.AGE.astype(str)\n",
    "    return test_listfile\n",
    "\n",
    "def transform_mesa(test_listfile):\n",
    "    test_listfile.loc[:, 'nsrr_age_gt65'] = test_listfile.nsrr_age.map(lambda age: 'no' if age < 65 else 'yes')\n",
    "    return test_listfile\n",
    "\n",
    "def transform_globem(test_listfile):\n",
    "    test_listfile.gender = test_listfile.gender.apply(lambda v: 'Male' if v==1 else ('Female' if v==2 else ('Transgender' if v==3 else 'Genderqueer ' if v==4 else 'Other')))\n",
    "    test_listfile.disability = test_listfile.disability.apply(lambda v: 'Yes' if v==1 else 'No')\n",
    "    test_listfile.race = test_listfile.race.apply(lambda v: 'Other' if pd.isna(v) else v)\n",
    "    return test_listfile\n",
    "\n",
    "if dataset == 'MIMIC':\n",
    "    test_listfile = transform_mimic(test_listfile)\n",
    "elif dataset == 'MESA':\n",
    "    test_listfile = transform_mesa(test_listfile)\n",
    "else:\n",
    "    test_listfile = transform_globem(test_listfile)\n",
    "    \n",
    "test_listfile.head()"
   ],
   "metadata": {
    "collapsed": false,
    "ExecuteTime": {
     "end_time": "2024-01-12T11:04:43.220774700Z",
     "start_time": "2024-01-12T11:04:43.132250400Z"
    }
   },
   "id": "e3fbf212380d83a8"
  },
  {
   "cell_type": "markdown",
   "source": [
    "## Get predictions and representations"
   ],
   "metadata": {
    "collapsed": false
   },
   "id": "2b611209af315cc8"
  },
  {
   "cell_type": "code",
   "execution_count": 70,
   "outputs": [
    {
     "name": "stdout",
     "output_type": "stream",
     "text": [
      "(1083, 96)\n",
      "Model: \"functional_1\"\n",
      "_________________________________________________________________\n",
      "Layer (type)                 Output Shape              Param #   \n",
      "=================================================================\n",
      "input (InputLayer)           [(None, 28, 1390)]        0         \n",
      "_________________________________________________________________\n",
      "conv1d (Conv1D)              (None, 28, 32)            1067552   \n",
      "_________________________________________________________________\n",
      "dropout (Dropout)            (None, 28, 32)            0         \n",
      "_________________________________________________________________\n",
      "conv1d_1 (Conv1D)            (None, 28, 64)            32832     \n",
      "_________________________________________________________________\n",
      "dropout_1 (Dropout)          (None, 28, 64)            0         \n",
      "_________________________________________________________________\n",
      "conv1d_2 (Conv1D)            (None, 28, 96)            49248     \n",
      "_________________________________________________________________\n",
      "dropout_2 (Dropout)          (None, 28, 96)            0         \n",
      "_________________________________________________________________\n",
      "global_max_pooling1d (Global (None, 96)                0         \n",
      "=================================================================\n",
      "Total params: 1,149,632\n",
      "Trainable params: 1,116,800\n",
      "Non-trainable params: 32,832\n",
      "_________________________________________________________________\n"
     ]
    }
   ],
   "source": [
    "model_file_name = models[1]\n",
    "model_name = 'ssl'\n",
    "\n",
    "tf.keras.backend.clear_session()\n",
    "model = tf.keras.models.load_model(model_file_name, compile=False)\n",
    "# predictions\n",
    "np_test = (np.load(os.path.join(os.path.join('SimCLR', dataset), 'test_x.npy')),\n",
    "           np.load(os.path.join(os.path.join('SimCLR', dataset), 'test_y.npy')))\n",
    "probs = model.predict(np_test[0])\n",
    "predictions = np.argmax(probs, axis=1)\n",
    "test_listfile.loc[:, \"y_pred\"] = predictions\n",
    "\n",
    "# representations\n",
    "layer_model = model = tf.keras.Model(inputs=model.inputs, outputs=model.layers[intermediate_layer].output)\n",
    "intermediate_representation = layer_model.predict(test[0], batch_size=600)\n",
    "print(intermediate_representation.shape)\n",
    "layer_model.summary()"
   ],
   "metadata": {
    "collapsed": false,
    "ExecuteTime": {
     "end_time": "2024-01-12T11:04:44.814617800Z",
     "start_time": "2024-01-12T11:04:43.160252200Z"
    }
   },
   "id": "799ac8d9e0f0a99d"
  },
  {
   "cell_type": "markdown",
   "source": [
    "## Get distances"
   ],
   "metadata": {
    "collapsed": false
   },
   "id": "8501601cb3808682"
  },
  {
   "cell_type": "code",
   "execution_count": 71,
   "outputs": [],
   "source": [
    "def get_distance(test_listfile, intermediate_representation, column, worst_group, rest_groups=None, best_group=None, intra_group=False):\n",
    "    GetMedoid = lambda vX: KMedoids(n_clusters=1, metric='manhattan').fit(vX).cluster_centers_\n",
    "    worst_rows = test_listfile.index[test_listfile[column].str.contains(worst_group)].tolist()\n",
    "    worst_group_medoid = GetMedoid(intermediate_representation[worst_rows, :])\n",
    "    \n",
    "    if intra_group:\n",
    "        intra_dist_total = 0\n",
    "        for group in test_listfile[col].value_counts().keys():\n",
    "            group_rows = test_listfile.index[test_listfile[column].str.contains(group)].tolist()   \n",
    "            group_reps = intermediate_representation[group_rows,:]\n",
    "            intra_dist = cdist(group_reps, group_reps, metric='cityblock').mean()\n",
    "            intra_dist_total += intra_dist\n",
    "            print(\"Intra-group ({}) distance: {}\".format(group, intra_dist))\n",
    "        intra_dist_avg = intra_dist_total / len(test_listfile[col].value_counts().keys().tolist())\n",
    "        print(\"Average Intra-group ({}) distance: {}\".format(column, intra_dist_avg))\n",
    "    \n",
    "    if best_group:\n",
    "        best_rows = test_listfile.index[test_listfile[column].str.contains(best_group)].tolist()\n",
    "        best_group_medoid = GetMedoid(intermediate_representation[best_rows, :])\n",
    "        dist = cityblock(worst_group_medoid, best_group_medoid)\n",
    "        print(\"Distance ({}) between {} and {}: {}\".format(column, best_group, worst_group, dist))\n",
    "        return dist\n",
    "    \n",
    "    total_dist = 0\n",
    "    for group in rest_groups:\n",
    "        group_rows = test_listfile.index[test_listfile[column].str.contains(group)].tolist()\n",
    "        group_medoid = GetMedoid(intermediate_representation[group_rows, :])\n",
    "        total_dist += cityblock(worst_group_medoid, group_medoid)\n",
    "    avg_dist = total_dist / len(rest_groups)\n",
    "    print(\"Total Distance ({}) between {} and rest: {}\".format(column, worst_group, total_dist))\n",
    "    print(\"Average Distance ({}) between {} and rest: {}\".format(column, worst_group, avg_dist))\n",
    "    return total_dist, avg_dist "
   ],
   "metadata": {
    "collapsed": false,
    "ExecuteTime": {
     "end_time": "2024-01-12T11:04:44.846618200Z",
     "start_time": "2024-01-12T11:04:44.820618900Z"
    }
   },
   "id": "f62f75cc634972a2"
  },
  {
   "cell_type": "code",
   "execution_count": 72,
   "outputs": [
    {
     "name": "stdout",
     "output_type": "stream",
     "text": [
      "Total Distance (gender) between Female and rest: 25.525755882263184\n",
      "Average Distance (gender) between Female and rest: 6.381438970565796\n",
      "Distance (gender) between Male and Female: 4.617440223693848\n",
      "----------------------------------------------------\n",
      "Total Distance (race) between Biracial and rest: 27.62401795387268\n",
      "Average Distance (race) between Biracial and rest: 6.90600448846817\n",
      "Distance (race) between White and Biracial: 3.9554522037506104\n",
      "----------------------------------------------------\n",
      "Total Distance (disability) between Yes and rest: 4.885066032409668\n",
      "Average Distance (disability) between Yes and rest: 4.885066032409668\n",
      "Distance (disability) between No and Yes: 4.885066032409668\n",
      "----------------------------------------------------\n"
     ]
    }
   ],
   "source": [
    "for idx, col in enumerate(columns):\n",
    "    # worst vs rest groups\n",
    "    rest_groups = test_listfile[col].value_counts().keys().tolist()\n",
    "    rest_groups.remove(worst_groups[idx])\n",
    "    rest = get_distance(test_listfile, intermediate_representation, col, worst_groups[idx], rest_groups=rest_groups)\n",
    "    \n",
    "    # worst vs best group\n",
    "    best = get_distance(test_listfile, intermediate_representation, col, worst_groups[idx], best_group=best_groups[idx], intra_group=False)\n",
    "    \n",
    "    print(\"----------------------------------------------------\")"
   ],
   "metadata": {
    "collapsed": false,
    "ExecuteTime": {
     "end_time": "2024-01-12T11:04:45.174231500Z",
     "start_time": "2024-01-12T11:04:44.834617500Z"
    }
   },
   "id": "7709b74f4cebb763"
  },
  {
   "cell_type": "code",
   "execution_count": 72,
   "outputs": [],
   "source": [],
   "metadata": {
    "collapsed": false,
    "ExecuteTime": {
     "end_time": "2024-01-12T11:04:45.189226Z",
     "start_time": "2024-01-12T11:04:45.176311900Z"
    }
   },
   "id": "a69372801df2bc33"
  }
 ],
 "metadata": {
  "kernelspec": {
   "display_name": "Python 3",
   "language": "python",
   "name": "python3"
  },
  "language_info": {
   "codemirror_mode": {
    "name": "ipython",
    "version": 2
   },
   "file_extension": ".py",
   "mimetype": "text/x-python",
   "name": "python",
   "nbconvert_exporter": "python",
   "pygments_lexer": "ipython2",
   "version": "2.7.6"
  }
 },
 "nbformat": 4,
 "nbformat_minor": 5
}
