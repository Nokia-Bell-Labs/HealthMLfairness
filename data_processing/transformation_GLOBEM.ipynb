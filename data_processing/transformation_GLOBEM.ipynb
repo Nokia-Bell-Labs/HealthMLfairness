{
 "cells": [
  {
   "metadata": {},
   "cell_type": "markdown",
   "source": [
    "© 2024 Nokia\n",
    "Licensed under the BSD 3 Clause Clear License  \n",
    "SPDX-License-Identifier: BSD-3-Clause-Clear"
   ]
  },
  {
   "metadata": {},
   "cell_type": "code",
   "outputs": [],
   "execution_count": 3,
   "source": [
    "import numpy as np\n",
    "import pandas as pd\n",
    "import os\n",
    "import re\n",
    "import torch\n",
    "\n",
    "from definitions import ROOT_DIR"
   ]
  },
  {
   "cell_type": "code",
   "source": [
    "os.chdir(ROOT_DIR)"
   ],
   "metadata": {
    "collapsed": false,
    "ExecuteTime": {
     "end_time": "2024-06-02T15:23:17.572500Z",
     "start_time": "2024-06-02T15:23:17.557682Z"
    }
   },
   "outputs": [],
   "execution_count": 4
  },
  {
   "cell_type": "code",
   "source": [
    "x = pd.read_pickle('datasets\\\\GLOBEM\\\\x_all_globem.pkl')\n",
    "y = pd.read_pickle('datasets\\\\GLOBEM\\\\y_all_globem.pkl')\n",
    "ids = pd.read_pickle('datasets\\\\GLOBEM\\\\ids_all_globem.pkl')"
   ],
   "metadata": {
    "collapsed": false,
    "ExecuteTime": {
     "end_time": "2024-06-02T15:23:54.002743Z",
     "start_time": "2024-06-02T15:23:18.087730Z"
    }
   },
   "outputs": [],
   "execution_count": 5
  },
  {
   "cell_type": "code",
   "source": [
    "print(\"Shapes\\nx: {} - y: {} - ids: {}\".format(x.shape, y.shape, ids.shape))\n",
    "print(\"where 28 are the timesteps and 1390 are the features\")"
   ],
   "metadata": {
    "collapsed": false,
    "ExecuteTime": {
     "end_time": "2024-06-02T15:23:54.034443Z",
     "start_time": "2024-06-02T15:23:54.013852Z"
    }
   },
   "outputs": [
    {
     "name": "stdout",
     "output_type": "stream",
     "text": [
      "Shapes\n",
      "x: (8122, 28, 1390) - y: (8122, 2) - ids: (8122,)\n",
      "where 28 are the timesteps and 1390 are the features\n"
     ]
    }
   ],
   "execution_count": 6
  },
  {
   "cell_type": "markdown",
   "source": [
    "# IDs exploration"
   ],
   "metadata": {
    "collapsed": false
   }
  },
  {
   "cell_type": "code",
   "execution_count": 5,
   "outputs": [],
   "source": [
    "def capture_PID(test_str, alt_regex=None):\n",
    "    regex = r\"(?:^INS-W_(\\d+))\" if not alt_regex else alt_regex\n",
    "    matches = re.finditer(regex, test_str, re.MULTILINE)\n",
    "\n",
    "    for matchNum, match in enumerate(matches, start=1):\n",
    "        return int(match.group(1))"
   ],
   "metadata": {
    "collapsed": false,
    "ExecuteTime": {
     "start_time": "2023-12-05T16:49:23.941572Z",
     "end_time": "2023-12-05T16:49:23.961210Z"
    }
   }
  },
  {
   "cell_type": "code",
   "execution_count": 6,
   "outputs": [
    {
     "data": {
      "text/plain": "                      0  pid  year\n0     INS-W_001#INS-W_1    1     1\n1     INS-W_001#INS-W_1    1     1\n2     INS-W_001#INS-W_1    1     1\n3     INS-W_001#INS-W_1    1     1\n4     INS-W_001#INS-W_1    1     1\n...                 ...  ...   ...\n8117  INS-W_999#INS-W_4  999     4\n8118  INS-W_999#INS-W_4  999     4\n8119  INS-W_999#INS-W_4  999     4\n8120  INS-W_999#INS-W_4  999     4\n8121  INS-W_999#INS-W_4  999     4\n\n[8122 rows x 3 columns]",
      "text/html": "<div>\n<style scoped>\n    .dataframe tbody tr th:only-of-type {\n        vertical-align: middle;\n    }\n\n    .dataframe tbody tr th {\n        vertical-align: top;\n    }\n\n    .dataframe thead th {\n        text-align: right;\n    }\n</style>\n<table border=\"1\" class=\"dataframe\">\n  <thead>\n    <tr style=\"text-align: right;\">\n      <th></th>\n      <th>0</th>\n      <th>pid</th>\n      <th>year</th>\n    </tr>\n  </thead>\n  <tbody>\n    <tr>\n      <th>0</th>\n      <td>INS-W_001#INS-W_1</td>\n      <td>1</td>\n      <td>1</td>\n    </tr>\n    <tr>\n      <th>1</th>\n      <td>INS-W_001#INS-W_1</td>\n      <td>1</td>\n      <td>1</td>\n    </tr>\n    <tr>\n      <th>2</th>\n      <td>INS-W_001#INS-W_1</td>\n      <td>1</td>\n      <td>1</td>\n    </tr>\n    <tr>\n      <th>3</th>\n      <td>INS-W_001#INS-W_1</td>\n      <td>1</td>\n      <td>1</td>\n    </tr>\n    <tr>\n      <th>4</th>\n      <td>INS-W_001#INS-W_1</td>\n      <td>1</td>\n      <td>1</td>\n    </tr>\n    <tr>\n      <th>...</th>\n      <td>...</td>\n      <td>...</td>\n      <td>...</td>\n    </tr>\n    <tr>\n      <th>8117</th>\n      <td>INS-W_999#INS-W_4</td>\n      <td>999</td>\n      <td>4</td>\n    </tr>\n    <tr>\n      <th>8118</th>\n      <td>INS-W_999#INS-W_4</td>\n      <td>999</td>\n      <td>4</td>\n    </tr>\n    <tr>\n      <th>8119</th>\n      <td>INS-W_999#INS-W_4</td>\n      <td>999</td>\n      <td>4</td>\n    </tr>\n    <tr>\n      <th>8120</th>\n      <td>INS-W_999#INS-W_4</td>\n      <td>999</td>\n      <td>4</td>\n    </tr>\n    <tr>\n      <th>8121</th>\n      <td>INS-W_999#INS-W_4</td>\n      <td>999</td>\n      <td>4</td>\n    </tr>\n  </tbody>\n</table>\n<p>8122 rows × 3 columns</p>\n</div>"
     },
     "execution_count": 6,
     "metadata": {},
     "output_type": "execute_result"
    }
   ],
   "source": [
    "ids = pd.DataFrame(ids)\n",
    "ids.loc[:, 'pid'] = ids.iloc[:, 0].apply(lambda id: capture_PID(id))\n",
    "alt_regex = r\"(?:#INS-W_(\\d+))\"\n",
    "ids.loc[:, 'year'] = ids.iloc[:, 0].apply(lambda id: capture_PID(id, alt_regex))\n",
    "ids"
   ],
   "metadata": {
    "collapsed": false,
    "ExecuteTime": {
     "start_time": "2023-12-05T16:49:23.956201Z",
     "end_time": "2023-12-05T16:49:24.150376Z"
    }
   }
  },
  {
   "cell_type": "code",
   "execution_count": 7,
   "outputs": [
    {
     "data": {
      "text/plain": "year\n1    153\n2    217\n3    136\n4    194\nName: pid, dtype: int64"
     },
     "execution_count": 7,
     "metadata": {},
     "output_type": "execute_result"
    }
   ],
   "source": [
    "ids.groupby('year')['pid'].nunique()"
   ],
   "metadata": {
    "collapsed": false,
    "ExecuteTime": {
     "start_time": "2023-12-05T16:49:24.152374Z",
     "end_time": "2023-12-05T16:49:24.201001Z"
    }
   }
  },
  {
   "cell_type": "code",
   "execution_count": 8,
   "outputs": [
    {
     "name": "stdout",
     "output_type": "stream",
     "text": [
      "Unique IDs in data: 700\n"
     ]
    }
   ],
   "source": [
    "print('Unique IDs in data: {}'.format(len(ids.pid.unique())))"
   ],
   "metadata": {
    "collapsed": false,
    "ExecuteTime": {
     "start_time": "2023-12-05T16:49:24.180933Z",
     "end_time": "2023-12-05T16:49:24.225940Z"
    }
   }
  },
  {
   "cell_type": "code",
   "execution_count": 9,
   "outputs": [
    {
     "data": {
      "text/plain": "<matplotlib.axes._subplots.AxesSubplot at 0x2ba8006a3a0>"
     },
     "execution_count": 9,
     "metadata": {},
     "output_type": "execute_result"
    },
    {
     "data": {
      "text/plain": "<Figure size 640x480 with 1 Axes>",
      "image/png": "[encoded data removed]"
     },
     "metadata": {},
     "output_type": "display_data"
    }
   ],
   "source": [
    "ids.pid.hist()"
   ],
   "metadata": {
    "collapsed": false,
    "ExecuteTime": {
     "start_time": "2023-12-05T16:49:24.198933Z",
     "end_time": "2023-12-05T16:49:24.497499Z"
    }
   }
  },
  {
   "cell_type": "code",
   "execution_count": 10,
   "outputs": [
    {
     "name": "stdout",
     "output_type": "stream",
     "text": [
      "(838, 6)\n"
     ]
    },
    {
     "data": {
      "text/plain": "      PID  gender   age      race  generation  disability\n0       1     1.0  18.0     Asian         2.0         0.0\n1       2     2.0  18.0     White         4.0         0.0\n2       3     2.0  18.0  Biracial         4.0         0.0\n3       4     2.0  18.0     Asian         2.0         0.0\n4       5     2.0  18.0     Asian         2.0         0.0\n..    ...     ...   ...       ...         ...         ...\n833  1220     2.0  20.0     Asian         1.0         1.0\n834  1221     1.0  21.0     Asian         1.0         1.0\n835  1222     2.0  19.0     Asian         2.0         1.0\n836  1223     3.0  18.0     Asian         2.0         1.0\n837  1224     4.0  19.0     White         3.0         1.0\n\n[838 rows x 6 columns]",
      "text/html": "<div>\n<style scoped>\n    .dataframe tbody tr th:only-of-type {\n        vertical-align: middle;\n    }\n\n    .dataframe tbody tr th {\n        vertical-align: top;\n    }\n\n    .dataframe thead th {\n        text-align: right;\n    }\n</style>\n<table border=\"1\" class=\"dataframe\">\n  <thead>\n    <tr style=\"text-align: right;\">\n      <th></th>\n      <th>PID</th>\n      <th>gender</th>\n      <th>age</th>\n      <th>race</th>\n      <th>generation</th>\n      <th>disability</th>\n    </tr>\n  </thead>\n  <tbody>\n    <tr>\n      <th>0</th>\n      <td>1</td>\n      <td>1.0</td>\n      <td>18.0</td>\n      <td>Asian</td>\n      <td>2.0</td>\n      <td>0.0</td>\n    </tr>\n    <tr>\n      <th>1</th>\n      <td>2</td>\n      <td>2.0</td>\n      <td>18.0</td>\n      <td>White</td>\n      <td>4.0</td>\n      <td>0.0</td>\n    </tr>\n    <tr>\n      <th>2</th>\n      <td>3</td>\n      <td>2.0</td>\n      <td>18.0</td>\n      <td>Biracial</td>\n      <td>4.0</td>\n      <td>0.0</td>\n    </tr>\n    <tr>\n      <th>3</th>\n      <td>4</td>\n      <td>2.0</td>\n      <td>18.0</td>\n      <td>Asian</td>\n      <td>2.0</td>\n      <td>0.0</td>\n    </tr>\n    <tr>\n      <th>4</th>\n      <td>5</td>\n      <td>2.0</td>\n      <td>18.0</td>\n      <td>Asian</td>\n      <td>2.0</td>\n      <td>0.0</td>\n    </tr>\n    <tr>\n      <th>...</th>\n      <td>...</td>\n      <td>...</td>\n      <td>...</td>\n      <td>...</td>\n      <td>...</td>\n      <td>...</td>\n    </tr>\n    <tr>\n      <th>833</th>\n      <td>1220</td>\n      <td>2.0</td>\n      <td>20.0</td>\n      <td>Asian</td>\n      <td>1.0</td>\n      <td>1.0</td>\n    </tr>\n    <tr>\n      <th>834</th>\n      <td>1221</td>\n      <td>1.0</td>\n      <td>21.0</td>\n      <td>Asian</td>\n      <td>1.0</td>\n      <td>1.0</td>\n    </tr>\n    <tr>\n      <th>835</th>\n      <td>1222</td>\n      <td>2.0</td>\n      <td>19.0</td>\n      <td>Asian</td>\n      <td>2.0</td>\n      <td>1.0</td>\n    </tr>\n    <tr>\n      <th>836</th>\n      <td>1223</td>\n      <td>3.0</td>\n      <td>18.0</td>\n      <td>Asian</td>\n      <td>2.0</td>\n      <td>1.0</td>\n    </tr>\n    <tr>\n      <th>837</th>\n      <td>1224</td>\n      <td>4.0</td>\n      <td>19.0</td>\n      <td>White</td>\n      <td>3.0</td>\n      <td>1.0</td>\n    </tr>\n  </tbody>\n</table>\n<p>838 rows × 6 columns</p>\n</div>"
     },
     "execution_count": 10,
     "metadata": {},
     "output_type": "execute_result"
    }
   ],
   "source": [
    "demographics = pd.read_csv(os.path.join('datasets', 'GLOBEM', 'demographics.csv'))\n",
    "print(demographics.shape)\n",
    "demographics"
   ],
   "metadata": {
    "collapsed": false,
    "ExecuteTime": {
     "start_time": "2023-12-05T16:49:24.502499Z",
     "end_time": "2023-12-05T16:49:24.588057Z"
    }
   }
  },
  {
   "cell_type": "code",
   "execution_count": 11,
   "outputs": [
    {
     "name": "stdout",
     "output_type": "stream",
     "text": [
      "Unique IDs in demographics list: 838\n"
     ]
    },
    {
     "data": {
      "text/plain": "<matplotlib.axes._subplots.AxesSubplot at 0x2ba823340a0>"
     },
     "execution_count": 11,
     "metadata": {},
     "output_type": "execute_result"
    },
    {
     "data": {
      "text/plain": "<Figure size 640x480 with 1 Axes>",
      "image/png": "[encoded data removed]"
     },
     "metadata": {},
     "output_type": "display_data"
    }
   ],
   "source": [
    "print('Unique IDs in demographics list: {}'.format(len(demographics.PID.unique())))\n",
    "demographics.PID.hist()"
   ],
   "metadata": {
    "collapsed": false,
    "ExecuteTime": {
     "start_time": "2023-12-05T16:49:24.531500Z",
     "end_time": "2023-12-05T16:49:24.744594Z"
    }
   }
  },
  {
   "cell_type": "code",
   "execution_count": 12,
   "outputs": [
    {
     "name": "stdout",
     "output_type": "stream",
     "text": [
      "19.232974910394265\n",
      "1.1644504486906617\n"
     ]
    }
   ],
   "source": [
    "print(demographics.age.mean())\n",
    "print(demographics.age.std())"
   ],
   "metadata": {
    "collapsed": false,
    "ExecuteTime": {
     "start_time": "2023-12-05T16:49:24.736588Z",
     "end_time": "2023-12-05T16:49:24.780249Z"
    }
   }
  },
  {
   "cell_type": "code",
   "execution_count": 55,
   "outputs": [
    {
     "name": "stdout",
     "output_type": "stream",
     "text": [
      "Unique IDs in data AND demographics list: 699\n"
     ]
    }
   ],
   "source": [
    "merged_ids = demographics.merge(ids, left_on='PID', right_on='pid', how='right')\n",
    "print('Unique IDs in data AND demographics list: {}'.format(merged_ids.PID.nunique()))"
   ],
   "metadata": {
    "collapsed": false,
    "ExecuteTime": {
     "start_time": "2023-10-30T15:14:30.636182Z",
     "end_time": "2023-10-30T15:14:30.678179Z"
    }
   }
  },
  {
   "cell_type": "code",
   "execution_count": 56,
   "outputs": [
    {
     "data": {
      "text/plain": "        PID  gender   age   race  generation  disability  year\n0       1.0     1.0  18.0  Asian         2.0         0.0     1\n1       1.0     1.0  18.0  Asian         2.0         0.0     1\n2       1.0     1.0  18.0  Asian         2.0         0.0     1\n3       1.0     1.0  18.0  Asian         2.0         0.0     1\n4       1.0     1.0  18.0  Asian         2.0         0.0     1\n...     ...     ...   ...    ...         ...         ...   ...\n8117  999.0     1.0  21.0  Asian         1.0         0.0     4\n8118  999.0     1.0  21.0  Asian         1.0         0.0     4\n8119  999.0     1.0  21.0  Asian         1.0         0.0     4\n8120  999.0     1.0  21.0  Asian         1.0         0.0     4\n8121  999.0     1.0  21.0  Asian         1.0         0.0     4\n\n[8122 rows x 7 columns]",
      "text/html": "<div>\n<style scoped>\n    .dataframe tbody tr th:only-of-type {\n        vertical-align: middle;\n    }\n\n    .dataframe tbody tr th {\n        vertical-align: top;\n    }\n\n    .dataframe thead th {\n        text-align: right;\n    }\n</style>\n<table border=\"1\" class=\"dataframe\">\n  <thead>\n    <tr style=\"text-align: right;\">\n      <th></th>\n      <th>PID</th>\n      <th>gender</th>\n      <th>age</th>\n      <th>race</th>\n      <th>generation</th>\n      <th>disability</th>\n      <th>year</th>\n    </tr>\n  </thead>\n  <tbody>\n    <tr>\n      <th>0</th>\n      <td>1.0</td>\n      <td>1.0</td>\n      <td>18.0</td>\n      <td>Asian</td>\n      <td>2.0</td>\n      <td>0.0</td>\n      <td>1</td>\n    </tr>\n    <tr>\n      <th>1</th>\n      <td>1.0</td>\n      <td>1.0</td>\n      <td>18.0</td>\n      <td>Asian</td>\n      <td>2.0</td>\n      <td>0.0</td>\n      <td>1</td>\n    </tr>\n    <tr>\n      <th>2</th>\n      <td>1.0</td>\n      <td>1.0</td>\n      <td>18.0</td>\n      <td>Asian</td>\n      <td>2.0</td>\n      <td>0.0</td>\n      <td>1</td>\n    </tr>\n    <tr>\n      <th>3</th>\n      <td>1.0</td>\n      <td>1.0</td>\n      <td>18.0</td>\n      <td>Asian</td>\n      <td>2.0</td>\n      <td>0.0</td>\n      <td>1</td>\n    </tr>\n    <tr>\n      <th>4</th>\n      <td>1.0</td>\n      <td>1.0</td>\n      <td>18.0</td>\n      <td>Asian</td>\n      <td>2.0</td>\n      <td>0.0</td>\n      <td>1</td>\n    </tr>\n    <tr>\n      <th>...</th>\n      <td>...</td>\n      <td>...</td>\n      <td>...</td>\n      <td>...</td>\n      <td>...</td>\n      <td>...</td>\n      <td>...</td>\n    </tr>\n    <tr>\n      <th>8117</th>\n      <td>999.0</td>\n      <td>1.0</td>\n      <td>21.0</td>\n      <td>Asian</td>\n      <td>1.0</td>\n      <td>0.0</td>\n      <td>4</td>\n    </tr>\n    <tr>\n      <th>8118</th>\n      <td>999.0</td>\n      <td>1.0</td>\n      <td>21.0</td>\n      <td>Asian</td>\n      <td>1.0</td>\n      <td>0.0</td>\n      <td>4</td>\n    </tr>\n    <tr>\n      <th>8119</th>\n      <td>999.0</td>\n      <td>1.0</td>\n      <td>21.0</td>\n      <td>Asian</td>\n      <td>1.0</td>\n      <td>0.0</td>\n      <td>4</td>\n    </tr>\n    <tr>\n      <th>8120</th>\n      <td>999.0</td>\n      <td>1.0</td>\n      <td>21.0</td>\n      <td>Asian</td>\n      <td>1.0</td>\n      <td>0.0</td>\n      <td>4</td>\n    </tr>\n    <tr>\n      <th>8121</th>\n      <td>999.0</td>\n      <td>1.0</td>\n      <td>21.0</td>\n      <td>Asian</td>\n      <td>1.0</td>\n      <td>0.0</td>\n      <td>4</td>\n    </tr>\n  </tbody>\n</table>\n<p>8122 rows × 7 columns</p>\n</div>"
     },
     "execution_count": 56,
     "metadata": {},
     "output_type": "execute_result"
    }
   ],
   "source": [
    "merged_ids.drop(columns=['pid', 0], inplace=True)\n",
    "merged_ids"
   ],
   "metadata": {
    "collapsed": false,
    "ExecuteTime": {
     "start_time": "2023-10-30T15:14:30.670181Z",
     "end_time": "2023-10-30T15:14:30.700559Z"
    }
   }
  },
  {
   "cell_type": "markdown",
   "source": [
    "# Train, Validation, Test Split"
   ],
   "metadata": {
    "collapsed": false
   }
  },
  {
   "cell_type": "code",
   "execution_count": 82,
   "outputs": [],
   "source": [
    "# to get more training data\n",
    "train_rows = merged_ids.loc[merged_ids.year < 4, :].index\n",
    "val_rows = merged_ids.loc[merged_ids.year == 4, :].index\n",
    "# test_rows = merged_ids.loc[merged_ids.year == 4, :].index\n",
    "test_rows = val_rows[int(len(val_rows)/2):]\n",
    "val_rows = val_rows[:int(len(val_rows)/2)]"
   ],
   "metadata": {
    "collapsed": false,
    "ExecuteTime": {
     "start_time": "2023-10-30T16:30:01.359115Z",
     "end_time": "2023-10-30T16:30:01.374103Z"
    }
   }
  },
  {
   "cell_type": "code",
   "execution_count": 85,
   "outputs": [],
   "source": [
    "train_x = x[train_rows]\n",
    "train_y = y[train_rows, 1]\n",
    "train_ids = merged_ids.loc[train_rows, :]\n",
    "\n",
    "val_x = x[val_rows]\n",
    "val_y = y[val_rows, 1]\n",
    "val_ids = merged_ids.loc[val_rows, :]\n",
    "\n",
    "test_x = x[test_rows]\n",
    "test_y = y[test_rows, 1]\n",
    "test_ids = merged_ids.loc[test_rows, :]"
   ],
   "metadata": {
    "collapsed": false,
    "ExecuteTime": {
     "start_time": "2023-10-30T16:30:15.361073Z",
     "end_time": "2023-10-30T16:30:27.757627Z"
    }
   }
  },
  {
   "cell_type": "code",
   "execution_count": 86,
   "outputs": [
    {
     "name": "stdout",
     "output_type": "stream",
     "text": [
      "Shapes\n",
      "Train x: (5957, 28, 1390) y: (5957,) ids: (5957, 7)\n",
      "Validation x: (1082, 28, 1390) y: (1082,) ids: (1082, 7)\n",
      "Test x: (1083, 28, 1390) y: (1083,) ids: (1083, 7)\n"
     ]
    }
   ],
   "source": [
    "print(\"Shapes\")\n",
    "print(\"Train x: {} y: {} ids: {}\".format(train_x.shape, train_y.shape, train_ids.shape))\n",
    "print(\"Validation x: {} y: {} ids: {}\".format(val_x.shape, val_y.shape, val_ids.shape))\n",
    "print(\"Test x: {} y: {} ids: {}\".format(test_x.shape, test_y.shape, test_ids.shape))"
   ],
   "metadata": {
    "collapsed": false,
    "ExecuteTime": {
     "start_time": "2023-10-30T16:30:27.793149Z",
     "end_time": "2023-10-30T16:30:27.805149Z"
    }
   }
  },
  {
   "cell_type": "code",
   "execution_count": 87,
   "outputs": [],
   "source": [
    "# TRAIN\n",
    "train_samples = torch.from_numpy(train_x)\n",
    "train_samples = torch.permute(train_samples, (0, 2, 1))  # permute to achieve order (samples, timesteps, channels)\n",
    "train_labels = torch.from_numpy(train_y)\n",
    "train_tensor = {'samples': train_samples, 'labels': train_labels}\n",
    "\n",
    "# VAL\n",
    "val_samples = torch.from_numpy(val_x)\n",
    "val_samples = torch.permute(val_samples, (0, 2, 1))  # permute to achieve order (samples, timesteps, channels)\n",
    "val_labels = torch.from_numpy(val_y)\n",
    "val_tensor = {'samples': val_samples, 'labels': val_labels}\n",
    "\n",
    "# TEST\n",
    "test_samples = torch.from_numpy(test_x)\n",
    "test_samples = torch.permute(test_samples, (0, 2, 1))  # permute to achieve order (samples, timesteps, channels)\n",
    "test_labels = torch.from_numpy(test_y)\n",
    "test_tensor = {'samples': test_samples, 'labels': test_labels}"
   ],
   "metadata": {
    "collapsed": false,
    "ExecuteTime": {
     "start_time": "2023-10-30T16:30:27.806149Z",
     "end_time": "2023-10-30T16:30:27.930659Z"
    }
   }
  },
  {
   "cell_type": "code",
   "execution_count": 88,
   "outputs": [],
   "source": [
    "# SAVE AS .PT\n",
    "path = os.path.join(\"datasets\", \"GLOBEM\")\n",
    "torch.save(train_tensor, os.path.join(path, \"train.pt\"))\n",
    "# torch.save(train_resampled_tensor, os.path.join(path, \"train_resampled.pt\"))\n",
    "torch.save(val_tensor, os.path.join(path, \"val.pt\"))\n",
    "torch.save(test_tensor, os.path.join(path, \"test.pt\"))"
   ],
   "metadata": {
    "collapsed": false,
    "ExecuteTime": {
     "start_time": "2023-10-30T16:30:27.935657Z",
     "end_time": "2023-10-30T16:30:38.686394Z"
    }
   }
  },
  {
   "cell_type": "code",
   "execution_count": 89,
   "outputs": [],
   "source": [
    "train_ids.to_csv(os.path.join(path, \"train_listfile.csv\"), index=False)\n",
    "val_ids.to_csv(os.path.join(path, \"val_listfile.csv\"), index=False)\n",
    "test_ids.to_csv(os.path.join(path, \"test_listfile.csv\"), index=False)"
   ],
   "metadata": {
    "collapsed": false,
    "ExecuteTime": {
     "start_time": "2023-10-30T16:30:38.716439Z",
     "end_time": "2023-10-30T16:30:38.777076Z"
    }
   }
  },
  {
   "cell_type": "code",
   "execution_count": 62,
   "outputs": [],
   "source": [],
   "metadata": {
    "collapsed": false,
    "ExecuteTime": {
     "start_time": "2023-10-30T15:14:41.827175Z",
     "end_time": "2023-10-30T15:14:41.839174Z"
    }
   }
  }
 ],
 "metadata": {
  "kernelspec": {
   "display_name": "Python 3",
   "language": "python",
   "name": "python3"
  },
  "language_info": {
   "codemirror_mode": {
    "name": "ipython",
    "version": 2
   },
   "file_extension": ".py",
   "mimetype": "text/x-python",
   "name": "python",
   "nbconvert_exporter": "python",
   "pygments_lexer": "ipython2",
   "version": "2.7.6"
  }
 },
 "nbformat": 4,
 "nbformat_minor": 0
}
