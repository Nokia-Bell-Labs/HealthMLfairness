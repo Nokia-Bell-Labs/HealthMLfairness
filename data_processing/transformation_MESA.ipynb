{
 "cells": [
  {
   "metadata": {},
   "cell_type": "markdown",
   "source": [
    "© 2024 Nokia\n",
    "Licensed under the BSD 3 Clause Clear License  \n",
    "SPDX-License-Identifier: BSD-3-Clause-Clear"
   ]
  },
  {
   "metadata": {},
   "cell_type": "code",
   "outputs": [],
   "execution_count": 36,
   "source": [
    "import pandas as pd\n",
    "import numpy as np\n",
    "from sklearn.preprocessing import StandardScaler\n",
    "from tqdm import tqdm\n",
    "import torch\n",
    "import os"
   ]
  },
  {
   "cell_type": "code",
   "execution_count": 37,
   "outputs": [],
   "source": [
    "timesteps = 100\n",
    "channels = 1"
   ],
   "metadata": {
    "collapsed": false
   }
  },
  {
   "cell_type": "code",
   "execution_count": 38,
   "outputs": [
    {
     "data": {
      "text/plain": "   mesaid  nsrr_age nsrr_sex nsrr_race\n0       1      70.0   female     white\n1       2      83.0   female     white\n2       6      57.0   female  hispanic\n3      10      57.0     male     white\n4      12      80.0     male     white",
      "text/html": "<div>\n<style scoped>\n    .dataframe tbody tr th:only-of-type {\n        vertical-align: middle;\n    }\n\n    .dataframe tbody tr th {\n        vertical-align: top;\n    }\n\n    .dataframe thead th {\n        text-align: right;\n    }\n</style>\n<table border=\"1\" class=\"dataframe\">\n  <thead>\n    <tr style=\"text-align: right;\">\n      <th></th>\n      <th>mesaid</th>\n      <th>nsrr_age</th>\n      <th>nsrr_sex</th>\n      <th>nsrr_race</th>\n    </tr>\n  </thead>\n  <tbody>\n    <tr>\n      <th>0</th>\n      <td>1</td>\n      <td>70.0</td>\n      <td>female</td>\n      <td>white</td>\n    </tr>\n    <tr>\n      <th>1</th>\n      <td>2</td>\n      <td>83.0</td>\n      <td>female</td>\n      <td>white</td>\n    </tr>\n    <tr>\n      <th>2</th>\n      <td>6</td>\n      <td>57.0</td>\n      <td>female</td>\n      <td>hispanic</td>\n    </tr>\n    <tr>\n      <th>3</th>\n      <td>10</td>\n      <td>57.0</td>\n      <td>male</td>\n      <td>white</td>\n    </tr>\n    <tr>\n      <th>4</th>\n      <td>12</td>\n      <td>80.0</td>\n      <td>male</td>\n      <td>white</td>\n    </tr>\n  </tbody>\n</table>\n</div>"
     },
     "execution_count": 38,
     "metadata": {},
     "output_type": "execute_result"
    }
   ],
   "source": [
    "demographics = pd.read_csv(\"..\\\\datasets\\\\MESA\\\\demographics.csv\", delimiter=\";\")\n",
    "demographics = demographics[['mesaid', 'nsrr_age', 'nsrr_sex', 'nsrr_race']]\n",
    "demographics.drop_duplicates(subset=['mesaid'], inplace=True)\n",
    "demographics.head()"
   ],
   "metadata": {
    "collapsed": false
   }
  },
  {
   "cell_type": "code",
   "execution_count": 39,
   "outputs": [],
   "source": [
    "train = pd.read_csv(\"..\\\\datasets\\\\MESA\\\\dftrain_task1.csv\")\n",
    "test = pd.read_csv(\"..\\\\datasets\\\\MESA\\\\dftest_task1.csv\")"
   ],
   "metadata": {
    "collapsed": false
   }
  },
  {
   "cell_type": "code",
   "execution_count": 40,
   "outputs": [
    {
     "data": {
      "text/plain": "     mesaid             linetime  marker interval  binterval  activity  \\\n0      1080  1900-01-01 23:00:00     0.0   REST-S          1       0.0   \n1      1080  1900-01-01 23:00:30     0.0   REST-S          1       0.0   \n2      1080  1900-01-01 23:01:00     0.0   REST-S          1      41.0   \n3      1080  1900-01-01 23:01:30     0.0   REST-S          1       0.0   \n4      1080  1900-01-01 23:02:00     0.0   REST-S          1       0.0   \n..      ...                  ...     ...      ...        ...       ...   \n995    1080  1900-01-02 07:17:30     0.0   ACTIVE          0       0.0   \n996    1080  1900-01-02 07:18:00     0.0   ACTIVE          0     186.0   \n997    1080  1900-01-02 07:18:30     0.0   ACTIVE          0       0.0   \n998    1080  1900-01-02 07:19:00     0.0   ACTIVE          0       0.0   \n999    1080  1900-01-02 07:19:30     0.0   ACTIVE          0       1.0   \n\n     whitelight  redlight  greenlight  bluelight     gt  gt_sleep_block  wake  \n0          0.01    0.0049       0.000       0.00   True               1   0.0  \n1          0.01    0.0049       0.000       0.00   True               1   0.0  \n2          0.01    0.0049       0.000       0.00   True               1   1.0  \n3          0.01    0.0049       0.000       0.00   True               1   0.0  \n4          0.01    0.0049       0.000       0.00   True               1   0.0  \n..          ...       ...         ...        ...    ...             ...   ...  \n995       10.87    0.7680       0.996       0.41  False               0   0.0  \n996       43.24    3.4200       3.900       1.41  False               0   1.0  \n997       82.76    8.5000       7.000       2.47  False               0   0.0  \n998       84.10    8.5000       7.150       2.47  False               0   0.0  \n999       84.10    8.5000       7.150       2.47  False               0   0.0  \n\n[1000 rows x 13 columns]",
      "text/html": "<div>\n<style scoped>\n    .dataframe tbody tr th:only-of-type {\n        vertical-align: middle;\n    }\n\n    .dataframe tbody tr th {\n        vertical-align: top;\n    }\n\n    .dataframe thead th {\n        text-align: right;\n    }\n</style>\n<table border=\"1\" class=\"dataframe\">\n  <thead>\n    <tr style=\"text-align: right;\">\n      <th></th>\n      <th>mesaid</th>\n      <th>linetime</th>\n      <th>marker</th>\n      <th>interval</th>\n      <th>binterval</th>\n      <th>activity</th>\n      <th>whitelight</th>\n      <th>redlight</th>\n      <th>greenlight</th>\n      <th>bluelight</th>\n      <th>gt</th>\n      <th>gt_sleep_block</th>\n      <th>wake</th>\n    </tr>\n  </thead>\n  <tbody>\n    <tr>\n      <th>0</th>\n      <td>1080</td>\n      <td>1900-01-01 23:00:00</td>\n      <td>0.0</td>\n      <td>REST-S</td>\n      <td>1</td>\n      <td>0.0</td>\n      <td>0.01</td>\n      <td>0.0049</td>\n      <td>0.000</td>\n      <td>0.00</td>\n      <td>True</td>\n      <td>1</td>\n      <td>0.0</td>\n    </tr>\n    <tr>\n      <th>1</th>\n      <td>1080</td>\n      <td>1900-01-01 23:00:30</td>\n      <td>0.0</td>\n      <td>REST-S</td>\n      <td>1</td>\n      <td>0.0</td>\n      <td>0.01</td>\n      <td>0.0049</td>\n      <td>0.000</td>\n      <td>0.00</td>\n      <td>True</td>\n      <td>1</td>\n      <td>0.0</td>\n    </tr>\n    <tr>\n      <th>2</th>\n      <td>1080</td>\n      <td>1900-01-01 23:01:00</td>\n      <td>0.0</td>\n      <td>REST-S</td>\n      <td>1</td>\n      <td>41.0</td>\n      <td>0.01</td>\n      <td>0.0049</td>\n      <td>0.000</td>\n      <td>0.00</td>\n      <td>True</td>\n      <td>1</td>\n      <td>1.0</td>\n    </tr>\n    <tr>\n      <th>3</th>\n      <td>1080</td>\n      <td>1900-01-01 23:01:30</td>\n      <td>0.0</td>\n      <td>REST-S</td>\n      <td>1</td>\n      <td>0.0</td>\n      <td>0.01</td>\n      <td>0.0049</td>\n      <td>0.000</td>\n      <td>0.00</td>\n      <td>True</td>\n      <td>1</td>\n      <td>0.0</td>\n    </tr>\n    <tr>\n      <th>4</th>\n      <td>1080</td>\n      <td>1900-01-01 23:02:00</td>\n      <td>0.0</td>\n      <td>REST-S</td>\n      <td>1</td>\n      <td>0.0</td>\n      <td>0.01</td>\n      <td>0.0049</td>\n      <td>0.000</td>\n      <td>0.00</td>\n      <td>True</td>\n      <td>1</td>\n      <td>0.0</td>\n    </tr>\n    <tr>\n      <th>...</th>\n      <td>...</td>\n      <td>...</td>\n      <td>...</td>\n      <td>...</td>\n      <td>...</td>\n      <td>...</td>\n      <td>...</td>\n      <td>...</td>\n      <td>...</td>\n      <td>...</td>\n      <td>...</td>\n      <td>...</td>\n      <td>...</td>\n    </tr>\n    <tr>\n      <th>995</th>\n      <td>1080</td>\n      <td>1900-01-02 07:17:30</td>\n      <td>0.0</td>\n      <td>ACTIVE</td>\n      <td>0</td>\n      <td>0.0</td>\n      <td>10.87</td>\n      <td>0.7680</td>\n      <td>0.996</td>\n      <td>0.41</td>\n      <td>False</td>\n      <td>0</td>\n      <td>0.0</td>\n    </tr>\n    <tr>\n      <th>996</th>\n      <td>1080</td>\n      <td>1900-01-02 07:18:00</td>\n      <td>0.0</td>\n      <td>ACTIVE</td>\n      <td>0</td>\n      <td>186.0</td>\n      <td>43.24</td>\n      <td>3.4200</td>\n      <td>3.900</td>\n      <td>1.41</td>\n      <td>False</td>\n      <td>0</td>\n      <td>1.0</td>\n    </tr>\n    <tr>\n      <th>997</th>\n      <td>1080</td>\n      <td>1900-01-02 07:18:30</td>\n      <td>0.0</td>\n      <td>ACTIVE</td>\n      <td>0</td>\n      <td>0.0</td>\n      <td>82.76</td>\n      <td>8.5000</td>\n      <td>7.000</td>\n      <td>2.47</td>\n      <td>False</td>\n      <td>0</td>\n      <td>0.0</td>\n    </tr>\n    <tr>\n      <th>998</th>\n      <td>1080</td>\n      <td>1900-01-02 07:19:00</td>\n      <td>0.0</td>\n      <td>ACTIVE</td>\n      <td>0</td>\n      <td>0.0</td>\n      <td>84.10</td>\n      <td>8.5000</td>\n      <td>7.150</td>\n      <td>2.47</td>\n      <td>False</td>\n      <td>0</td>\n      <td>0.0</td>\n    </tr>\n    <tr>\n      <th>999</th>\n      <td>1080</td>\n      <td>1900-01-02 07:19:30</td>\n      <td>0.0</td>\n      <td>ACTIVE</td>\n      <td>0</td>\n      <td>1.0</td>\n      <td>84.10</td>\n      <td>8.5000</td>\n      <td>7.150</td>\n      <td>2.47</td>\n      <td>False</td>\n      <td>0</td>\n      <td>0.0</td>\n    </tr>\n  </tbody>\n</table>\n<p>1000 rows × 13 columns</p>\n</div>"
     },
     "execution_count": 40,
     "metadata": {},
     "output_type": "execute_result"
    }
   ],
   "source": [
    "test.head(1000)"
   ],
   "metadata": {
    "collapsed": false
   }
  },
  {
   "cell_type": "code",
   "execution_count": 41,
   "outputs": [],
   "source": [
    "scaler = StandardScaler()\n",
    "scaler.fit(train[[\"activity\"]].fillna(0.0))\n",
    "\n",
    "train[\"activity\"] = scaler.transform(train[[\"activity\"]].fillna(0.0))\n",
    "test[\"activity\"] = scaler.transform(test[[\"activity\"]].fillna(0.0))"
   ],
   "metadata": {
    "collapsed": false
   }
  },
  {
   "cell_type": "code",
   "execution_count": 42,
   "outputs": [],
   "source": [
    "# split into train and validation\n",
    "def split_data(df, percent=0.2):\n",
    "    uids = df.mesaid.unique()\n",
    "    np.random.seed(42)\n",
    "    np.random.shuffle(uids)\n",
    "    test_position = int(uids.shape[0] * percent)\n",
    "\n",
    "    uids_test, uids_train = uids[:test_position], uids[test_position:]\n",
    "\n",
    "    # Splits dataset into training and test sets.\n",
    "    # train_idx = wholedf[wholedf[\"mesaid\"].apply(lambda x: x in uids_train)].index\n",
    "    # dftrain = wholedf.iloc[train_idx].copy()\n",
    "    dftrain = df[df['mesaid'].isin(uids_train)]\n",
    "\n",
    "    # test_idx = wholedf[wholedf[\"mesaid\"].apply(lambda x: x in uids_test)].index\n",
    "    # dftest = wholedf.iloc[test_idx].copy()\n",
    "    dftest = df[df['mesaid'].isin(uids_test)]\n",
    "    return dftrain, dftest\n",
    "train, val = split_data(train)"
   ],
   "metadata": {
    "collapsed": false
   }
  },
  {
   "cell_type": "code",
   "execution_count": 43,
   "outputs": [],
   "source": [
    "merged_train = train.merge(demographics, how='left', on='mesaid')\n",
    "train_listfile = merged_train[['mesaid', 'wake']]\n",
    "merged_val = val.merge(demographics, how='left', on='mesaid')\n",
    "val_listfile = merged_val[['mesaid', 'wake']]\n",
    "merged_test = test.merge(demographics, how='left', on='mesaid')\n",
    "test_listfile = merged_test[['mesaid', 'wake']]"
   ],
   "metadata": {
    "collapsed": false
   }
  },
  {
   "cell_type": "code",
   "execution_count": 44,
   "outputs": [],
   "source": [
    "train_listfile.to_csv(\"..\\\\datasets\\\\MESA\\\\train_listfile.csv\", index=False)\n",
    "val_listfile.to_csv(\"..\\\\datasets\\\\MESA\\\\val_listfile.csv\", index=False)\n",
    "test_listfile.to_csv(\"..\\\\datasets\\\\MESA\\\\test_listfile.csv\", index=False)"
   ],
   "metadata": {
    "collapsed": false
   }
  },
  {
   "cell_type": "code",
   "execution_count": 45,
   "outputs": [
    {
     "name": "stdout",
     "output_type": "stream",
     "text": [
      "Shapes:\n",
      "Train: (1449147, 13) - Validation: (365497, 13) - Test: (452015, 13)\n"
     ]
    }
   ],
   "source": [
    "print(\"Shapes:\\nTrain: ({}, {}) - Validation: ({}, {}) - Test: ({}, {})\".format(train.shape[0], train.shape[1], val.shape[0], val.shape[1], test.shape[0], test.shape[1]))"
   ],
   "metadata": {
    "collapsed": false
   }
  },
  {
   "cell_type": "code",
   "execution_count": 92,
   "outputs": [],
   "source": [
    "from time import sleep\n",
    "def extract_x_y(df, seq_len, mesaid, feature=\"activity\"):\n",
    "    df = df[df[\"mesaid\"] == mesaid][[feature, \"gt\"]].copy()\n",
    "    # print(df)\n",
    "\n",
    "    range_upper = int(seq_len/2 + 1)\n",
    "    for s in range(1, range_upper):\n",
    "\t    df[\"shift_%d\" % (s)] = df[feature].shift(s)\n",
    "\n",
    "    for s in range(1, range_upper):\n",
    "\t    df[\"shift_-%d\" % (s)] = df[feature].shift(-s)\n",
    "\n",
    "    y = df[\"gt\"]\n",
    "    y = np.array([[1] if v else [0] for v in y])\n",
    "    del df[\"gt\"]\n",
    "    x = df.fillna(-1).values\n",
    "    return x,y\n",
    "\n",
    "def get_data(df, seq_len):\n",
    "    mesaids = df.mesaid.unique()\n",
    "    features = [\"activity\", \"whitelight\", \"redlight\", \"greenlight\", \"bluelight\"]\n",
    "    # 1st feature: activity\n",
    "    print(\"Feature: {}\".format(features[0]))\n",
    "    x_, y_ = extract_x_y(df, seq_len, mesaids[0], feature=features[0])\n",
    "    for mid in tqdm(mesaids[1:]):\n",
    "        x_tmp, y_tmp = extract_x_y(df, seq_len, mid, feature=features[0])\n",
    "        x_ = np.concatenate((x_, x_tmp))\n",
    "        y_ = np.concatenate((y_, y_tmp))\n",
    "    x_channels = x_\n",
    "    x_channels = np.expand_dims(x_channels, axis=2)\n",
    "\n",
    "    # remaining features\n",
    "    for feature in features[1:]:\n",
    "        print(\"Feature: {}\".format(feature))\n",
    "        x_, y_ = extract_x_y(df, seq_len, mesaids[0])\n",
    "        for mid in tqdm(mesaids[1:]):\n",
    "            x_tmp, y_tmp = extract_x_y(df, seq_len, mid, feature=feature)\n",
    "            x_ = np.concatenate((x_, x_tmp))\n",
    "            y_ = np.concatenate((y_, y_tmp))\n",
    "        x_ = np.expand_dims(x_, axis=2)\n",
    "        x_channels = np.concatenate([x_channels, x_], -1)\n",
    "    return x_channels, y_"
   ],
   "metadata": {
    "collapsed": false
   }
  },
  {
   "cell_type": "code",
   "execution_count": 93,
   "outputs": [
    {
     "name": "stdout",
     "output_type": "stream",
     "text": [
      "\n",
      "Windowing training data...\n",
      "\n",
      "Feature: activity\n"
     ]
    },
    {
     "name": "stderr",
     "output_type": "stream",
     "text": [
      "100%|██████████| 1163/1163 [03:17<00:00,  5.89it/s]\n"
     ]
    },
    {
     "name": "stdout",
     "output_type": "stream",
     "text": [
      "Feature: whitelight\n"
     ]
    },
    {
     "name": "stderr",
     "output_type": "stream",
     "text": [
      "100%|██████████| 1163/1163 [03:19<00:00,  5.83it/s]\n"
     ]
    },
    {
     "name": "stdout",
     "output_type": "stream",
     "text": [
      "Feature: redlight\n"
     ]
    },
    {
     "name": "stderr",
     "output_type": "stream",
     "text": [
      "100%|██████████| 1163/1163 [03:18<00:00,  5.86it/s]\n"
     ]
    },
    {
     "name": "stdout",
     "output_type": "stream",
     "text": [
      "Feature: greenlight\n"
     ]
    },
    {
     "name": "stderr",
     "output_type": "stream",
     "text": [
      "100%|██████████| 1163/1163 [03:18<00:00,  5.87it/s]\n"
     ]
    },
    {
     "name": "stdout",
     "output_type": "stream",
     "text": [
      "Feature: bluelight\n"
     ]
    },
    {
     "name": "stderr",
     "output_type": "stream",
     "text": [
      "100%|██████████| 1163/1163 [03:08<00:00,  6.18it/s]\n"
     ]
    },
    {
     "name": "stdout",
     "output_type": "stream",
     "text": [
      "\n",
      "Windowing validation data...\n",
      "\n",
      "Feature: activity\n"
     ]
    },
    {
     "name": "stderr",
     "output_type": "stream",
     "text": [
      "100%|██████████| 289/289 [00:18<00:00, 15.29it/s]\n"
     ]
    },
    {
     "name": "stdout",
     "output_type": "stream",
     "text": [
      "Feature: whitelight\n"
     ]
    },
    {
     "name": "stderr",
     "output_type": "stream",
     "text": [
      "100%|██████████| 289/289 [00:17<00:00, 16.08it/s]\n"
     ]
    },
    {
     "name": "stdout",
     "output_type": "stream",
     "text": [
      "Feature: redlight\n"
     ]
    },
    {
     "name": "stderr",
     "output_type": "stream",
     "text": [
      "100%|██████████| 289/289 [00:21<00:00, 13.62it/s]\n"
     ]
    },
    {
     "name": "stdout",
     "output_type": "stream",
     "text": [
      "Feature: greenlight\n"
     ]
    },
    {
     "name": "stderr",
     "output_type": "stream",
     "text": [
      "100%|██████████| 289/289 [00:19<00:00, 14.64it/s]\n"
     ]
    },
    {
     "name": "stdout",
     "output_type": "stream",
     "text": [
      "Feature: bluelight\n"
     ]
    },
    {
     "name": "stderr",
     "output_type": "stream",
     "text": [
      "100%|██████████| 289/289 [00:18<00:00, 15.49it/s]\n"
     ]
    },
    {
     "name": "stdout",
     "output_type": "stream",
     "text": [
      "\n",
      "Windowing test data...\n",
      "\n",
      "Feature: activity\n"
     ]
    },
    {
     "name": "stderr",
     "output_type": "stream",
     "text": [
      "100%|██████████| 362/362 [00:27<00:00, 13.08it/s]\n"
     ]
    },
    {
     "name": "stdout",
     "output_type": "stream",
     "text": [
      "Feature: whitelight\n"
     ]
    },
    {
     "name": "stderr",
     "output_type": "stream",
     "text": [
      "100%|██████████| 362/362 [00:28<00:00, 12.80it/s]\n"
     ]
    },
    {
     "name": "stdout",
     "output_type": "stream",
     "text": [
      "Feature: redlight\n"
     ]
    },
    {
     "name": "stderr",
     "output_type": "stream",
     "text": [
      "100%|██████████| 362/362 [00:26<00:00, 13.80it/s]\n"
     ]
    },
    {
     "name": "stdout",
     "output_type": "stream",
     "text": [
      "Feature: greenlight\n"
     ]
    },
    {
     "name": "stderr",
     "output_type": "stream",
     "text": [
      "100%|██████████| 362/362 [00:26<00:00, 13.88it/s]\n"
     ]
    },
    {
     "name": "stdout",
     "output_type": "stream",
     "text": [
      "Feature: bluelight\n"
     ]
    },
    {
     "name": "stderr",
     "output_type": "stream",
     "text": [
      "100%|██████████| 362/362 [00:26<00:00, 13.82it/s]\n"
     ]
    }
   ],
   "source": [
    "print(\"\\nWindowing training data...\\n\")\n",
    "x_train, y_train = get_data(train, timesteps)\n",
    "print(\"\\nWindowing validation data...\\n\")\n",
    "x_val, y_val = get_data(val, timesteps)\n",
    "print(\"\\nWindowing test data...\\n\")\n",
    "x_test, y_test = get_data(test, timesteps)\n",
    "\n",
    "# print(\"Reshaping...\")\n",
    "# x_train = np.reshape(x_train, x_train.shape + (1,))\n",
    "# x_val = np.reshape(x_val, x_val.shape + (1,))\n",
    "# x_test = np.reshape(x_test, x_test.shape + (1,))"
   ],
   "metadata": {
    "collapsed": false
   }
  },
  {
   "cell_type": "code",
   "execution_count": 94,
   "outputs": [
    {
     "name": "stdout",
     "output_type": "stream",
     "text": [
      "Shapes:\n",
      "Train: ((1449147, 101, 5)) - Validation: ((365497, 101, 5)) - Test: ((452015, 101, 5))\n"
     ]
    }
   ],
   "source": [
    "print(\"Shapes:\\nTrain: ({}) - Validation: ({}) - Test: ({})\".format(x_train.shape, x_val.shape, x_test.shape))"
   ],
   "metadata": {
    "collapsed": false
   }
  },
  {
   "cell_type": "code",
   "execution_count": 95,
   "outputs": [
    {
     "name": "stdout",
     "output_type": "stream",
     "text": [
      "Label Distribution\n"
     ]
    },
    {
     "data": {
      "text/plain": "True     262499\nFalse    189516\nName: gt, dtype: int64"
     },
     "execution_count": 95,
     "metadata": {},
     "output_type": "execute_result"
    }
   ],
   "source": [
    "print(\"Label Distribution\")\n",
    "test['gt'].value_counts()"
   ],
   "metadata": {
    "collapsed": false
   }
  },
  {
   "cell_type": "code",
   "execution_count": 96,
   "outputs": [],
   "source": [
    "# TRAIN\n",
    "train_samples = torch.from_numpy(x_train)\n",
    "train_samples = torch.permute(train_samples, (0, 2, 1))\n",
    "train_labels = torch.from_numpy(np.asarray(y_train).squeeze())\n",
    "train_tensor = {'samples': train_samples, 'labels': train_labels}\n",
    "\n",
    "# VAL\n",
    "val_samples = torch.from_numpy(x_val)\n",
    "val_samples = torch.permute(val_samples, (0, 2, 1))\n",
    "val_labels = torch.from_numpy(np.asarray(y_val).squeeze())\n",
    "val_tensor = {'samples': val_samples, 'labels': val_labels}\n",
    "\n",
    "# TEST\n",
    "test_samples = torch.from_numpy(x_test)\n",
    "test_samples = torch.permute(test_samples, (0, 2, 1))\n",
    "test_labels = torch.from_numpy(np.asarray(y_test).squeeze())\n",
    "test_tensor = {'samples': test_samples, 'labels': test_labels}"
   ],
   "metadata": {
    "collapsed": false
   }
  },
  {
   "cell_type": "code",
   "execution_count": 97,
   "outputs": [],
   "source": [
    "# SAVE AS .PT\n",
    "path = \"..\\\\datasets\\\\MESA\\\\\"\n",
    "torch.save(train_tensor, os.path.join(path, \"train.pt\"))\n",
    "torch.save(val_tensor, os.path.join(path, \"val.pt\"))\n",
    "torch.save(test_tensor, os.path.join(path, \"test.pt\"))"
   ],
   "metadata": {
    "collapsed": false
   }
  },
  {
   "cell_type": "code",
   "execution_count": 15,
   "outputs": [],
   "source": [],
   "metadata": {
    "collapsed": false
   }
  }
 ],
 "metadata": {
  "kernelspec": {
   "display_name": "Python 3",
   "language": "python",
   "name": "python3"
  },
  "language_info": {
   "codemirror_mode": {
    "name": "ipython",
    "version": 2
   },
   "file_extension": ".py",
   "mimetype": "text/x-python",
   "name": "python",
   "nbconvert_exporter": "python",
   "pygments_lexer": "ipython2",
   "version": "2.7.6"
  }
 },
 "nbformat": 4,
 "nbformat_minor": 0
}
