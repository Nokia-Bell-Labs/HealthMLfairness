{
 "cells": [
  {
   "metadata": {},
   "cell_type": "markdown",
   "source": [
    "© 2024 Nokia\n",
    "Licensed under the BSD 3 Clause Clear License  \n",
    "SPDX-License-Identifier: BSD-3-Clause-Clear"
   ]
  },
  {
   "metadata": {},
   "cell_type": "code",
   "outputs": [],
   "execution_count": 1,
   "source": [
    "import numpy as np\n",
    "import pandas as pd\n",
    "import os\n",
    "import torch\n",
    "\n",
    "from definitions import ROOT_DIR"
   ]
  },
  {
   "cell_type": "code",
   "execution_count": 2,
   "outputs": [],
   "source": [
    "os.chdir(ROOT_DIR)"
   ],
   "metadata": {
    "collapsed": false,
    "ExecuteTime": {
     "start_time": "2023-07-06T15:28:32.025230Z",
     "end_time": "2023-07-06T15:28:32.039695Z"
    }
   }
  },
  {
   "cell_type": "code",
   "execution_count": 3,
   "outputs": [],
   "source": [
    "train = pd.read_pickle('datasets\\\\MIMIC\\\\train.pkl')\n",
    "val = pd.read_pickle('datasets\\\\MIMIC\\\\val.pkl')\n",
    "test = pd.read_pickle('datasets\\\\MIMIC\\\\test.pkl')"
   ],
   "metadata": {
    "collapsed": false,
    "ExecuteTime": {
     "start_time": "2023-07-06T15:28:32.042701Z",
     "end_time": "2023-07-06T15:28:32.810519Z"
    }
   }
  },
  {
   "cell_type": "code",
   "execution_count": 6,
   "outputs": [
    {
     "ename": "IndexError",
     "evalue": "tuple index out of range",
     "output_type": "error",
     "traceback": [
      "\u001B[1;31m---------------------------------------------------------------------------\u001B[0m",
      "\u001B[1;31mIndexError\u001B[0m                                Traceback (most recent call last)",
      "Cell \u001B[1;32mIn[6], line 1\u001B[0m\n\u001B[1;32m----> 1\u001B[0m \u001B[43mtrain\u001B[49m\u001B[43m[\u001B[49m\u001B[38;5;241;43m2\u001B[39;49m\u001B[43m]\u001B[49m\n",
      "\u001B[1;31mIndexError\u001B[0m: tuple index out of range"
     ]
    }
   ],
   "source": [
    "train[2]"
   ],
   "metadata": {
    "collapsed": false,
    "ExecuteTime": {
     "start_time": "2023-07-06T15:28:37.434036Z",
     "end_time": "2023-07-06T15:28:37.465107Z"
    }
   }
  },
  {
   "cell_type": "code",
   "execution_count": 48,
   "outputs": [],
   "source": [
    "# TRAIN\n",
    "train_samples = torch.from_numpy(train[0])\n",
    "train_samples = torch.permute(train_samples, (0, 2, 1))  # permute to achieve order (samples, timesteps, channels)\n",
    "train_labels = torch.from_numpy(np.asarray(train[1]))\n",
    "train_tensor = {'samples': train_samples, 'labels': train_labels}\n",
    "\n",
    "# VAL\n",
    "val_samples = torch.from_numpy(val[0])\n",
    "val_samples = torch.permute(val_samples, (0, 2, 1))\n",
    "val_labels = torch.from_numpy(np.asarray(val[1]))\n",
    "val_tensor = {'samples': val_samples, 'labels': val_labels}\n",
    "\n",
    "# TEST\n",
    "test = test['data']\n",
    "test_samples = torch.from_numpy(test[0])\n",
    "test_samples = torch.permute(test_samples, (0, 2, 1))\n",
    "test_labels = torch.from_numpy(np.asarray(test[1]))\n",
    "test_tensor = {'samples': test_samples, 'labels': test_labels}"
   ],
   "metadata": {
    "collapsed": false
   }
  },
  {
   "cell_type": "code",
   "execution_count": 49,
   "outputs": [
    {
     "name": "stdout",
     "output_type": "stream",
     "text": [
      "Resampled training data shape: ((3974, 48, 76), (3974,))\n"
     ]
    }
   ],
   "source": [
    "# undersample majority class in training\n",
    "# from imblearn.under_sampling import RandomUnderSampler\n",
    "# rus = RandomUnderSampler(random_state=0)\n",
    "# rus.fit_resample(train[0][:,:,0], train[1])\n",
    "# X_resampled = train[0][rus.sample_indices_]\n",
    "# y_resampled = np.take(train[1], rus.sample_indices_)\n",
    "# print(\"Resampled training data shape: ({}, {})\".format(X_resampled.shape, y_resampled.shape))\n",
    "#\n",
    "# train_resampled_samples = torch.from_numpy(X_resampled)\n",
    "# train_resampled_samples = torch.permute(train_resampled_samples, (0, 2, 1))\n",
    "# train_resampled_labels = torch.from_numpy(np.asarray(y_resampled))\n",
    "# train_resampled_tensor = {'samples': train_resampled_samples, 'labels': train_resampled_labels}"
   ],
   "metadata": {
    "collapsed": false
   }
  },
  {
   "cell_type": "code",
   "execution_count": 50,
   "outputs": [],
   "source": [
    "# SAVE AS .PT\n",
    "path = \"datasets\\\\MIMIC\\\\\"\n",
    "torch.save(train_tensor, os.path.join(path, \"train.pt\"))\n",
    "# torch.save(train_resampled_tensor, os.path.join(path, \"train_resampled.pt\"))\n",
    "torch.save(val_tensor, os.path.join(path, \"val.pt\"))\n",
    "torch.save(test_tensor, os.path.join(path, \"test.pt\"))"
   ],
   "metadata": {
    "collapsed": false
   }
  },
  {
   "cell_type": "code",
   "execution_count": 50,
   "outputs": [],
   "source": [],
   "metadata": {
    "collapsed": false
   }
  }
 ],
 "metadata": {
  "kernelspec": {
   "display_name": "Python 3",
   "language": "python",
   "name": "python3"
  },
  "language_info": {
   "codemirror_mode": {
    "name": "ipython",
    "version": 2
   },
   "file_extension": ".py",
   "mimetype": "text/x-python",
   "name": "python",
   "nbconvert_exporter": "python",
   "pygments_lexer": "ipython2",
   "version": "2.7.6"
  }
 },
 "nbformat": 4,
 "nbformat_minor": 0
}
